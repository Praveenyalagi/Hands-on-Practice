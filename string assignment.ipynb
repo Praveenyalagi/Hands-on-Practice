{
 "cells": [
  {
   "cell_type": "code",
   "execution_count": 288,
   "id": "30d46ac2",
   "metadata": {},
   "outputs": [],
   "source": [
    "import string"
   ]
  },
  {
   "cell_type": "code",
   "execution_count": 289,
   "id": "b7b26511",
   "metadata": {},
   "outputs": [],
   "source": [
    "from collections import Counter"
   ]
  },
  {
   "cell_type": "code",
   "execution_count": 290,
   "id": "4e7e0492",
   "metadata": {},
   "outputs": [
    {
     "data": {
      "text/plain": [
       "'gnimmargorP nohtyP'"
      ]
     },
     "execution_count": 290,
     "metadata": {},
     "output_type": "execute_result"
    }
   ],
   "source": [
    " # Question 1: Reverse the string \"Python Programming\"\n",
    "string = \"Python Programming\"\n",
    "string[::-1]"
   ]
  },
  {
   "cell_type": "code",
   "execution_count": 291,
   "id": "306871c8",
   "metadata": {},
   "outputs": [
    {
     "name": "stdout",
     "output_type": "stream",
     "text": [
      "it is a palidrome\n"
     ]
    }
   ],
   "source": [
    "# Question 2: Check if \"racecar\" is a palindrome\n",
    "word = 'racecar'\n",
    "if word == word[::-1]:\n",
    "    print(\"it is a palidrome\")\n",
    "else:\n",
    "    print(\"it is not a palidrome\")"
   ]
  },
  {
   "cell_type": "code",
   "execution_count": 292,
   "id": "8fec630e",
   "metadata": {},
   "outputs": [
    {
     "data": {
      "text/plain": [
       "6"
      ]
     },
     "execution_count": 292,
     "metadata": {},
     "output_type": "execute_result"
    }
   ],
   "source": [
    "# Question 3: Count the number of words in \"Python is a great programming language\"\n",
    "word = \"Python is a great programming language\"\n",
    "len(word.split())"
   ]
  },
  {
   "cell_type": "code",
   "execution_count": 293,
   "id": "01291f60",
   "metadata": {},
   "outputs": [
    {
     "data": {
      "text/plain": [
       "'Hello World'"
      ]
     },
     "execution_count": 293,
     "metadata": {},
     "output_type": "execute_result"
    }
   ],
   "source": [
    "# Question 4: Convert \"hello world\" to title case\n",
    "tit = \"hello world\"\n",
    "tit.title()"
   ]
  },
  {
   "cell_type": "code",
   "execution_count": 294,
   "id": "4ede56eb",
   "metadata": {},
   "outputs": [
    {
     "data": {
      "text/plain": [
       "12"
      ]
     },
     "execution_count": 294,
     "metadata": {},
     "output_type": "execute_result"
    }
   ],
   "source": [
    "# Question 5: Find the length of string \"Data Science\"\n",
    "sent = \"Data Science\"\n",
    "len(sent)"
   ]
  },
  {
   "cell_type": "code",
   "execution_count": 295,
   "id": "4978daed",
   "metadata": {},
   "outputs": [
    {
     "data": {
      "text/plain": [
       "'Machine_Learning'"
      ]
     },
     "execution_count": 295,
     "metadata": {},
     "output_type": "execute_result"
    }
   ],
   "source": [
    "# Question 6: Replace all spaces with underscores in \"Machine Learning\"\n",
    "sen = \"Machine Learning\"\n",
    "sen.replace(' ', '_')"
   ]
  },
  {
   "cell_type": "code",
   "execution_count": 296,
   "id": "691e1a7d",
   "metadata": {},
   "outputs": [
    {
     "name": "stdout",
     "output_type": "stream",
     "text": [
      "True\n"
     ]
    }
   ],
   "source": [
    "# Question 7: Check if \"python\" is in \"Python Programming Language\"\n",
    "che = \"Python Programming Language\"\n",
    "print('Python' in che)\n"
   ]
  },
  {
   "cell_type": "code",
   "execution_count": 297,
   "id": "b6e59276",
   "metadata": {},
   "outputs": [
    {
     "data": {
      "text/plain": [
       "'Artifi'"
      ]
     },
     "execution_count": 297,
     "metadata": {},
     "output_type": "execute_result"
    }
   ],
   "source": [
    "# Question 8: Extract the first 5 characters from \"Artificial Intelligence\"\n",
    "sent = \"Artificial Intelligence\"\n",
    "sent[0:6]"
   ]
  },
  {
   "cell_type": "code",
   "execution_count": 298,
   "id": "15a578b4",
   "metadata": {},
   "outputs": [
    {
     "data": {
      "text/plain": [
       "'uppercase'"
      ]
     },
     "execution_count": 298,
     "metadata": {},
     "output_type": "execute_result"
    }
   ],
   "source": [
    "# Question 9: Convert \"UPPERCASE\" to lowercase\n",
    "a = 'UPPERCASE'\n",
    "a.swapcase()"
   ]
  },
  {
   "cell_type": "code",
   "execution_count": 299,
   "id": "1678ce3e",
   "metadata": {},
   "outputs": [
    {
     "name": "stdout",
     "output_type": "stream",
     "text": [
      "Cmptr Scnc\n"
     ]
    }
   ],
   "source": [
    "# Question 10: Remove all vowels from \"Computer Science\"\n",
    "a = \"Computer Science\"\n",
    "vowels = 'aeiouAEIOU'\n",
    "result = ''.join(i for i in a if i not in vowels)\n",
    "print(result)"
   ]
  },
  {
   "cell_type": "code",
   "execution_count": 300,
   "id": "7b4f332a",
   "metadata": {},
   "outputs": [
    {
     "name": "stdout",
     "output_type": "stream",
     "text": [
      "i\n"
     ]
    }
   ],
   "source": [
    "# Question 11: Find the most frequent character in \"mississippi\"\n",
    "char = 'mississippi'\n",
    "frequ = {}\n",
    "for i in char:\n",
    "    frequ[i] = frequ.get(i,0)+1\n",
    "most_fre = max(frequ, key = frequ.get)\n",
    "print(most_fre)"
   ]
  },
  {
   "cell_type": "code",
   "execution_count": 301,
   "id": "c369fa63",
   "metadata": {},
   "outputs": [
    {
     "name": "stdout",
     "output_type": "stream",
     "text": [
      "\n",
      "\n",
      "yes it is same\n"
     ]
    }
   ],
   "source": [
    "# Question 12: Check if two strings are anagrams: \"listen\" and \"silent\"\n",
    "a = input()\n",
    "b = input()\n",
    "\n",
    "if sorted(a) == sorted(b):\n",
    "    print('yes it is same')\n",
    "else:\n",
    "    print('it is not same')"
   ]
  },
  {
   "cell_type": "code",
   "execution_count": 302,
   "id": "f8fccc2c",
   "metadata": {},
   "outputs": [
    {
     "data": {
      "text/plain": [
       "'Python Programming Language'"
      ]
     },
     "execution_count": 302,
     "metadata": {},
     "output_type": "execute_result"
    }
   ],
   "source": [
    "# Question 13: Capitalize first letter of each word in \"python programming language\"\n",
    "let = \"python programming language\"\n",
    "let.title()"
   ]
  },
  {
   "cell_type": "code",
   "execution_count": 303,
   "id": "cb7c6fc1",
   "metadata": {},
   "outputs": [
    {
     "data": {
      "text/plain": [
       "8"
      ]
     },
     "execution_count": 303,
     "metadata": {},
     "output_type": "execute_result"
    }
   ],
   "source": [
    "# Question 14: Count consonants in \"Hello World\"\n",
    "let = \"Hello World\"\n",
    "vowels = 'aeiouAEIOU'\n",
    "result = ''.join(i for i in let if i not in vowels)\n",
    "len(result)"
   ]
  },
  {
   "cell_type": "code",
   "execution_count": 304,
   "id": "8f85bea8",
   "metadata": {},
   "outputs": [
    {
     "data": {
      "text/plain": [
       "'programming'"
      ]
     },
     "execution_count": 304,
     "metadata": {},
     "output_type": "execute_result"
    }
   ],
   "source": [
    "# Question 15: Find the longest word in \"Python is a programming language\"\n",
    "sent = \"Python is a programming language\"\n",
    "max(sent.split(), key = len)"
   ]
  },
  {
   "cell_type": "code",
   "execution_count": 305,
   "id": "9d9affad",
   "metadata": {},
   "outputs": [
    {
     "ename": "AttributeError",
     "evalue": "'str' object has no attribute 'punctuation'",
     "output_type": "error",
     "traceback": [
      "\u001b[1;31m---------------------------------------------------------------------------\u001b[0m",
      "\u001b[1;31mAttributeError\u001b[0m                            Traceback (most recent call last)",
      "Input \u001b[1;32mIn [305]\u001b[0m, in \u001b[0;36m<cell line: 3>\u001b[1;34m()\u001b[0m\n\u001b[0;32m      1\u001b[0m \u001b[38;5;66;03m# Question 16: Remove all punctuation from \"Hello, World! How are you?\"\u001b[39;00m\n\u001b[0;32m      2\u001b[0m line \u001b[38;5;241m=\u001b[39m \u001b[38;5;124m\"\u001b[39m\u001b[38;5;124mHello, World! How are you?\u001b[39m\u001b[38;5;124m\"\u001b[39m\n\u001b[1;32m----> 3\u001b[0m conv \u001b[38;5;241m=\u001b[39m \u001b[38;5;124;43m'\u001b[39;49m\u001b[38;5;124;43m'\u001b[39;49m\u001b[38;5;241;43m.\u001b[39;49m\u001b[43mjoin\u001b[49m\u001b[43m(\u001b[49m\u001b[43mi\u001b[49m\u001b[43m \u001b[49m\u001b[38;5;28;43;01mfor\u001b[39;49;00m\u001b[43m \u001b[49m\u001b[43mi\u001b[49m\u001b[43m \u001b[49m\u001b[38;5;129;43;01min\u001b[39;49;00m\u001b[43m \u001b[49m\u001b[43mline\u001b[49m\u001b[43m \u001b[49m\u001b[38;5;28;43;01mif\u001b[39;49;00m\u001b[43m \u001b[49m\u001b[43mi\u001b[49m\u001b[43m \u001b[49m\u001b[38;5;129;43;01mnot\u001b[39;49;00m\u001b[43m \u001b[49m\u001b[38;5;129;43;01min\u001b[39;49;00m\u001b[43m \u001b[49m\u001b[43mstring\u001b[49m\u001b[38;5;241;43m.\u001b[39;49m\u001b[43mpunctuation\u001b[49m\u001b[43m)\u001b[49m\n\u001b[0;32m      4\u001b[0m conv\n",
      "Input \u001b[1;32mIn [305]\u001b[0m, in \u001b[0;36m<genexpr>\u001b[1;34m(.0)\u001b[0m\n\u001b[0;32m      1\u001b[0m \u001b[38;5;66;03m# Question 16: Remove all punctuation from \"Hello, World! How are you?\"\u001b[39;00m\n\u001b[0;32m      2\u001b[0m line \u001b[38;5;241m=\u001b[39m \u001b[38;5;124m\"\u001b[39m\u001b[38;5;124mHello, World! How are you?\u001b[39m\u001b[38;5;124m\"\u001b[39m\n\u001b[1;32m----> 3\u001b[0m conv \u001b[38;5;241m=\u001b[39m \u001b[38;5;124m'\u001b[39m\u001b[38;5;124m'\u001b[39m\u001b[38;5;241m.\u001b[39mjoin(i \u001b[38;5;28;01mfor\u001b[39;00m i \u001b[38;5;129;01min\u001b[39;00m line \u001b[38;5;28;01mif\u001b[39;00m i \u001b[38;5;129;01mnot\u001b[39;00m \u001b[38;5;129;01min\u001b[39;00m \u001b[43mstring\u001b[49m\u001b[38;5;241;43m.\u001b[39;49m\u001b[43mpunctuation\u001b[49m)\n\u001b[0;32m      4\u001b[0m conv\n",
      "\u001b[1;31mAttributeError\u001b[0m: 'str' object has no attribute 'punctuation'"
     ]
    }
   ],
   "source": [
    "# Question 16: Remove all punctuation from \"Hello, World! How are you?\"\n",
    "line = \"Hello, World! How are you?\"\n",
    "conv = ''.join(i for i in line if i not in string.punctuation)\n",
    "conv"
   ]
  },
  {
   "cell_type": "code",
   "execution_count": 306,
   "id": "bf73c785",
   "metadata": {},
   "outputs": [
    {
     "data": {
      "text/plain": [
       "True"
      ]
     },
     "execution_count": 306,
     "metadata": {},
     "output_type": "execute_result"
    }
   ],
   "source": [
    "# Question 17: Check if string starts with \"Python\"\n",
    "line = 'Python'\n",
    "line.startswith('Python')"
   ]
  },
  {
   "cell_type": "code",
   "execution_count": 307,
   "id": "aa36404e",
   "metadata": {},
   "outputs": [
    {
     "data": {
      "text/plain": [
       "4"
      ]
     },
     "execution_count": 307,
     "metadata": {},
     "output_type": "execute_result"
    }
   ],
   "source": [
    "# Question 18: Find the index of first occurrence of 'o' in \"Hello World\"\n",
    "line = \"Hello World\"\n",
    "line.index('o')"
   ]
  },
  {
   "cell_type": "code",
   "execution_count": 308,
   "id": "e5a09a92",
   "metadata": {},
   "outputs": [
    {
     "data": {
      "text/plain": [
       "['apple', 'banana', 'orange']"
      ]
     },
     "execution_count": 308,
     "metadata": {},
     "output_type": "execute_result"
    }
   ],
   "source": [
    "# Question 19: Split string \"apple,banana,orange\" by comma\n",
    "var = \"apple,banana,orange\"\n",
    "var.split(',')"
   ]
  },
  {
   "cell_type": "code",
   "execution_count": 309,
   "id": "0e7a99d2",
   "metadata": {},
   "outputs": [
    {
     "data": {
      "text/plain": [
       "'Python is awesome'"
      ]
     },
     "execution_count": 309,
     "metadata": {},
     "output_type": "execute_result"
    }
   ],
   "source": [
    "# Question 20: Join list ['Python', 'is', 'awesome'] with spaces\n",
    "char = ['Python', 'is', 'awesome']\n",
    "new = ' '.join(char)\n",
    "new"
   ]
  },
  {
   "cell_type": "code",
   "execution_count": 310,
   "id": "df3882d5",
   "metadata": {},
   "outputs": [
    {
     "data": {
      "text/plain": [
       "True"
      ]
     },
     "execution_count": 310,
     "metadata": {},
     "output_type": "execute_result"
    }
   ],
   "source": [
    "# Question 21: Check if string contains only digits: \"12345\"\n",
    "senten = \"12345\"\n",
    "senten.isdigit()"
   ]
  },
  {
   "cell_type": "code",
   "execution_count": 311,
   "id": "1bf2e520",
   "metadata": {},
   "outputs": [
    {
     "data": {
      "text/plain": [
       "True"
      ]
     },
     "execution_count": 311,
     "metadata": {},
     "output_type": "execute_result"
    }
   ],
   "source": [
    "# Question 22: Check if string contains only letters: \"HelloWorld\"\n",
    "line = \"HelloWorld\"\n",
    "line.isalpha()"
   ]
  },
  {
   "cell_type": "code",
   "execution_count": 312,
   "id": "b8bfb9be",
   "metadata": {},
   "outputs": [
    {
     "data": {
      "text/plain": [
       "'hElLo wOrLd'"
      ]
     },
     "execution_count": 312,
     "metadata": {},
     "output_type": "execute_result"
    }
   ],
   "source": [
    "# Question 23: Convert \"hello world\" to \"hElLo WoRlD\" (alternating case)\n",
    "latest = \"hello world\"\n",
    "result = ''\n",
    "i = 0\n",
    "for x in latest:\n",
    "    if i % 2 == 0:\n",
    "        result += x.lower()\n",
    "    else:\n",
    "        result += x.upper()\n",
    "    i += 1\n",
    "result"
   ]
  },
  {
   "cell_type": "code",
   "execution_count": 313,
   "id": "820c4c17",
   "metadata": {},
   "outputs": [
    {
     "data": {
      "text/plain": [
       "[1, 3, 5]"
      ]
     },
     "execution_count": 313,
     "metadata": {},
     "output_type": "execute_result"
    }
   ],
   "source": [
    "# Question 24: Find all positions of 'a' in \"banana\"\n",
    "line = \"banana\"\n",
    "new = [i for i, val in enumerate(line) if val == 'a']\n",
    "new"
   ]
  },
  {
   "cell_type": "code",
   "execution_count": 314,
   "id": "f579f963",
   "metadata": {},
   "outputs": [
    {
     "data": {
      "text/plain": [
       "'Hello World'"
      ]
     },
     "execution_count": 314,
     "metadata": {},
     "output_type": "execute_result"
    }
   ],
   "source": [
    "# Question 25: Remove leading and trailing whitespace from \"  Hello World  \"\n",
    "var = \"  Hello World  \"\n",
    "var.strip()"
   ]
  },
  {
   "cell_type": "code",
   "execution_count": 315,
   "id": "01b798f2",
   "metadata": {},
   "outputs": [
    {
     "data": {
      "text/plain": [
       "True"
      ]
     },
     "execution_count": 315,
     "metadata": {},
     "output_type": "execute_result"
    }
   ],
   "source": [
    "# Question 26: Check if string ends with \"ing\": \"programming\"\n",
    "word = \"programming\"\n",
    "word.endswith('ing')"
   ]
  },
  {
   "cell_type": "code",
   "execution_count": 316,
   "id": "24e784ae",
   "metadata": {},
   "outputs": [
    {
     "data": {
      "text/plain": [
       "'Hell0 World'"
      ]
     },
     "execution_count": 316,
     "metadata": {},
     "output_type": "execute_result"
    }
   ],
   "source": [
    "# Question 27: Replace first occurrence of 'o' with '0' in \"Hello World\"\n",
    "var = \"Hello World\"\n",
    "var.replace('o', '0',1)"
   ]
  },
  {
   "cell_type": "code",
   "execution_count": 317,
   "id": "d1c1485e",
   "metadata": {},
   "outputs": [
    {
     "data": {
      "text/plain": [
       "'a'"
      ]
     },
     "execution_count": 317,
     "metadata": {},
     "output_type": "execute_result"
    }
   ],
   "source": [
    "# Question 28: Find the shortest word in \"Python is a programming language\"\n",
    "latest = \"Python is a programming language\"\n",
    "just = latest.split()\n",
    "min(just, key = len)"
   ]
  },
  {
   "cell_type": "code",
   "execution_count": 318,
   "id": "10ba2e38",
   "metadata": {},
   "outputs": [
    {
     "data": {
      "text/plain": [
       "2"
      ]
     },
     "execution_count": 318,
     "metadata": {},
     "output_type": "execute_result"
    }
   ],
   "source": [
    "# Question 29: Count words that start with 'p' in \"Python programming is powerful\"\n",
    "var = \"Python programming is powerful\"\n",
    "var.count('p')"
   ]
  },
  {
   "cell_type": "code",
   "execution_count": 319,
   "id": "16e15173",
   "metadata": {},
   "outputs": [
    {
     "data": {
      "text/plain": [
       "'nohtyP dlroW olleH'"
      ]
     },
     "execution_count": 319,
     "metadata": {},
     "output_type": "execute_result"
    }
   ],
   "source": [
    "# Question 30: Reverse words in \"Hello World Python\"\n",
    "char = \"Hello World Python\"\n",
    "char[::-1]"
   ]
  },
  {
   "cell_type": "code",
   "execution_count": 320,
   "id": "b7541a17",
   "metadata": {},
   "outputs": [
    {
     "data": {
      "text/plain": [
       "True"
      ]
     },
     "execution_count": 320,
     "metadata": {},
     "output_type": "execute_result"
    }
   ],
   "source": [
    "# Question 31: Check if string is a valid email format: \"user@example.com\"\n",
    "a = \"user@example.com\"\n",
    "a.endswith(\"@example.com\")"
   ]
  },
  {
   "cell_type": "code",
   "execution_count": 321,
   "id": "e318d6d8",
   "metadata": {},
   "outputs": [
    {
     "data": {
      "text/plain": [
       "'com/path'"
      ]
     },
     "execution_count": 321,
     "metadata": {},
     "output_type": "execute_result"
    }
   ],
   "source": [
    "# Question 32: Extract domain from \"https://www.example.com/path\"\n",
    "a = \"https://www.example.com/path\"\n",
    "a.split('.')[2]"
   ]
  },
  {
   "cell_type": "code",
   "execution_count": 322,
   "id": "befeb4f5",
   "metadata": {},
   "outputs": [
    {
     "data": {
      "text/plain": [
       "5"
      ]
     },
     "execution_count": 322,
     "metadata": {},
     "output_type": "execute_result"
    }
   ],
   "source": [
    "# Question 33: Count lines in multi-line string\n",
    "text = \"\"\"Python is great\\n.\n",
    "It is easy to learn.\n",
    "It is widely used\n",
    "It is easy to learn.\n",
    "It is widely used.\"\"\"\n",
    "\n",
    "text.count('\\n')"
   ]
  },
  {
   "cell_type": "code",
   "execution_count": 323,
   "id": "41138026",
   "metadata": {},
   "outputs": [
    {
     "data": {
      "text/plain": [
       "{'l', 'o'}"
      ]
     },
     "execution_count": 323,
     "metadata": {},
     "output_type": "execute_result"
    }
   ],
   "source": [
    "# Question 34: Find common characters between \"hello\" and \"world\"\n",
    "b = \"hello\" \n",
    "c = \"world\"\n",
    "resu = set(b)\n",
    "res = set(c)\n",
    "resu.intersection(res)"
   ]
  },
  {
   "cell_type": "code",
   "execution_count": 324,
   "id": "c86f73da",
   "metadata": {},
   "outputs": [
    {
     "name": "stdout",
     "output_type": "stream",
     "text": [
      "Valid phone number\n"
     ]
    }
   ],
   "source": [
    "# Question 35: Check if string is a valid phone number: \"+1-555-123-4567\"\n",
    "d = \"+1-555-123-4567\"\n",
    "parts = d.split('-')\n",
    "\n",
    "if (\n",
    "    len(parts) == 4 and\n",
    "    parts[0].startswith('+') and parts[0][1:].isdigit() and\n",
    "    parts[1].isdigit() and len(parts[1]) == 3 and\n",
    "    parts[2].isdigit() and len(parts[2]) == 3 and\n",
    "    parts[3].isdigit() and len(parts[3]) == 4\n",
    "):\n",
    "    print(\"Valid phone number\")\n",
    "else:\n",
    "    print(\"Invalid phone number\")\n"
   ]
  },
  {
   "cell_type": "code",
   "execution_count": 325,
   "id": "567697b9",
   "metadata": {},
   "outputs": [],
   "source": [
    "# Question 36: Extract numbers from \"abc123def456ghi789\"\n",
    "text = \"abc123def456ghi789\"\n",
    "cleaned = ''.join(char if char.isdigit() else ' ' for char in text)\n"
   ]
  },
  {
   "cell_type": "code",
   "execution_count": null,
   "id": "a9bd04e6",
   "metadata": {},
   "outputs": [],
   "source": []
  },
  {
   "cell_type": "code",
   "execution_count": 326,
   "id": "06bf3339",
   "metadata": {},
   "outputs": [
    {
     "name": "stdout",
     "output_type": "stream",
     "text": [
      "snakeCase\n"
     ]
    }
   ],
   "source": [
    "snake_case = \"snake_case\"\n",
    "\n",
    "# Split the string at underscores\n",
    "words = snake_case.split(\"_\")\n",
    "\n",
    "# Capitalize all except the first word, then join\n",
    "camel_case = words[0] + ''.join(word.capitalize() for word in words[1:])\n",
    "\n",
    "print(camel_case)\n"
   ]
  },
  {
   "cell_type": "code",
   "execution_count": 327,
   "id": "ceeabcfd",
   "metadata": {},
   "outputs": [
    {
     "data": {
      "text/plain": [
       "True"
      ]
     },
     "execution_count": 327,
     "metadata": {},
     "output_type": "execute_result"
    }
   ],
   "source": [
    "# Question 38: Check if string is a valid palindrome ignoring case: \"A man a plan a canal Panama\"\n",
    "pol = \"A man a plan a canal Panama\"\n",
    "first = pol.replace(' ', '').lower()\n",
    "answer = first == first[::-1]\n",
    "answer"
   ]
  },
  {
   "cell_type": "code",
   "execution_count": 329,
   "id": "12380910",
   "metadata": {},
   "outputs": [
    {
     "name": "stdout",
     "output_type": "stream",
     "text": [
      "Most common word: the\n",
      "Count: 2\n"
     ]
    }
   ],
   "source": [
    "# Question 39: Find the most common word in \"the quick brown fox jumps over the lazy dog\"\n",
    "sentence = \"the quick brown fox jumps over the lazy dog\"\n",
    "words = sentence.split()\n",
    "\n",
    "# Create a dictionary to count each word\n",
    "word_count = {}\n",
    "\n",
    "for word in words:\n",
    "    if word in word_count:\n",
    "        word_count[word] += 1\n",
    "    else:\n",
    "        word_count[word] = 1\n",
    "\n",
    "# Find the word with the maximum count\n",
    "most_common_word = max(word_count, key=word_count.get)\n",
    "\n",
    "print(\"Most common word:\", most_common_word)\n",
    "print(\"Count:\", word_count[most_common_word])"
   ]
  },
  {
   "cell_type": "code",
   "execution_count": 334,
   "id": "08f04b17",
   "metadata": {},
   "outputs": [
    {
     "data": {
      "text/plain": [
       "'NASA'"
      ]
     },
     "execution_count": 334,
     "metadata": {},
     "output_type": "execute_result"
    }
   ],
   "source": [
    "# Question 40: Generate acronym from \"National Aeronautics and Space Administration\"\n",
    "a = \"National Aeronautics and Space Administration\"\n",
    "word = a.split()\n",
    "\n",
    "ignor = ['and']\n",
    "\n",
    "acro = ''.join(i[0].upper() for i in word if i.lower() not in ignor)\n",
    "acro"
   ]
  },
  {
   "cell_type": "code",
   "execution_count": 341,
   "id": "144f9315",
   "metadata": {},
   "outputs": [
    {
     "name": "stdout",
     "output_type": "stream",
     "text": [
      "True\n"
     ]
    }
   ],
   "source": [
    "# Question 41: Check if string contains balanced parentheses: \"((()))\"\n",
    "new = \"((()))\"\n",
    "opened = new.count('(')\n",
    "closed = new.count(')')\n",
    "\n",
    "# check order and count\n",
    "balanced = opened == closed and new.find(')') > new.find('(')\n",
    "\n",
    "print(balanced)"
   ]
  },
  {
   "cell_type": "code",
   "execution_count": 344,
   "id": "a90fc42e",
   "metadata": {},
   "outputs": [
    {
     "name": "stdout",
     "output_type": "stream",
     "text": [
      ".... . .-.. .-.. --- / .-- --- .-. .-.. -..\n"
     ]
    }
   ],
   "source": [
    "# Question 42: Convert \"hello world\" to Morse code\n",
    "morse_dict = {\n",
    "    'A': '.-',    'B': '-...',  'C': '-.-.', 'D': '-..',   'E': '.',\n",
    "    'F': '..-.',  'G': '--.',   'H': '....', 'I': '..',    'J': '.---',\n",
    "    'K': '-.-',   'L': '.-..',  'M': '--',   'N': '-.',    'O': '---',\n",
    "    'P': '.--.',  'Q': '--.-',  'R': '.-.',  'S': '...',   'T': '-',\n",
    "    'U': '..-',   'V': '...-',  'W': '.--',  'X': '-..-',  'Y': '-.--',\n",
    "    'Z': '--..',\n",
    "    '0': '-----', '1': '.----', '2': '..---','3': '...--', '4': '....-',\n",
    "    '5': '.....', '6': '-....', '7': '--...', '8': '---..','9': '----.',\n",
    "    ' ': '/'\n",
    "}\n",
    "text = \"hello world\"\n",
    "morse_code = ' '.join(morse_dict[char.upper()] for char in text)\n",
    "\n",
    "print(morse_code)"
   ]
  },
  {
   "cell_type": "code",
   "execution_count": 345,
   "id": "4beef37c",
   "metadata": {},
   "outputs": [],
   "source": [
    "# Question 43: Find the longest common substring between \"programming\" and \"grammar\"\n"
   ]
  },
  {
   "cell_type": "code",
   "execution_count": 350,
   "id": "690993f4",
   "metadata": {},
   "outputs": [
    {
     "name": "stdout",
     "output_type": "stream",
     "text": [
      "True\n"
     ]
    }
   ],
   "source": [
    "# Question 44: Check if string is a valid URL: \"https://www.google.com\"\n",
    "url = \"https://www.google.com\"\n",
    "new = url.startswith('http://') or url.startswith('https://') and '.' in url\n",
    "print(new)"
   ]
  },
  {
   "cell_type": "code",
   "execution_count": 351,
   "id": "101cf429",
   "metadata": {},
   "outputs": [
    {
     "data": {
      "text/plain": [
       "['Python', 'programming', 'is', 'amazing', 'and', 'powerful']"
      ]
     },
     "execution_count": 351,
     "metadata": {},
     "output_type": "execute_result"
    }
   ],
   "source": [
    "# Question 45: Extract all words with length > 5 from \"Python programming is amazing and powerful\"\n",
    "wor = \"Python programming is amazing and powerful\"\n",
    "nex = wor.split()\n",
    "if nex > 5;\n"
   ]
  },
  {
   "cell_type": "code",
   "execution_count": null,
   "id": "863a672f",
   "metadata": {},
   "outputs": [],
   "source": []
  },
  {
   "cell_type": "code",
   "execution_count": null,
   "id": "e5a98ce7",
   "metadata": {},
   "outputs": [],
   "source": []
  },
  {
   "cell_type": "code",
   "execution_count": null,
   "id": "91fe0b29",
   "metadata": {},
   "outputs": [],
   "source": []
  },
  {
   "cell_type": "code",
   "execution_count": null,
   "id": "760902f7",
   "metadata": {},
   "outputs": [],
   "source": []
  },
  {
   "cell_type": "code",
   "execution_count": null,
   "id": "71843248",
   "metadata": {},
   "outputs": [],
   "source": []
  },
  {
   "cell_type": "code",
   "execution_count": null,
   "id": "7e9e4f7f",
   "metadata": {},
   "outputs": [],
   "source": []
  },
  {
   "cell_type": "raw",
   "id": "978cbfb4",
   "metadata": {},
   "source": []
  },
  {
   "cell_type": "code",
   "execution_count": null,
   "id": "f888a616",
   "metadata": {},
   "outputs": [],
   "source": []
  },
  {
   "cell_type": "code",
   "execution_count": null,
   "id": "06c8291f",
   "metadata": {},
   "outputs": [],
   "source": []
  },
  {
   "cell_type": "code",
   "execution_count": null,
   "id": "e6207c64",
   "metadata": {},
   "outputs": [],
   "source": []
  },
  {
   "cell_type": "code",
   "execution_count": null,
   "id": "5011c8a6",
   "metadata": {},
   "outputs": [],
   "source": []
  },
  {
   "cell_type": "code",
   "execution_count": null,
   "id": "bcf5554f",
   "metadata": {},
   "outputs": [],
   "source": []
  },
  {
   "cell_type": "code",
   "execution_count": null,
   "id": "efc9722e",
   "metadata": {},
   "outputs": [],
   "source": []
  },
  {
   "cell_type": "code",
   "execution_count": null,
   "id": "3394ff80",
   "metadata": {},
   "outputs": [],
   "source": []
  },
  {
   "cell_type": "code",
   "execution_count": null,
   "id": "14ae9bab",
   "metadata": {},
   "outputs": [],
   "source": []
  },
  {
   "cell_type": "code",
   "execution_count": null,
   "id": "ac46a72f",
   "metadata": {},
   "outputs": [],
   "source": []
  },
  {
   "cell_type": "code",
   "execution_count": null,
   "id": "452e2662",
   "metadata": {},
   "outputs": [],
   "source": []
  },
  {
   "cell_type": "code",
   "execution_count": null,
   "id": "29685edb",
   "metadata": {},
   "outputs": [],
   "source": []
  },
  {
   "cell_type": "code",
   "execution_count": null,
   "id": "cdec2f35",
   "metadata": {},
   "outputs": [],
   "source": []
  },
  {
   "cell_type": "code",
   "execution_count": null,
   "id": "cbce7503",
   "metadata": {},
   "outputs": [],
   "source": []
  },
  {
   "cell_type": "code",
   "execution_count": null,
   "id": "228a574c",
   "metadata": {},
   "outputs": [],
   "source": []
  }
 ],
 "metadata": {
  "kernelspec": {
   "display_name": "Python 3 (ipykernel)",
   "language": "python",
   "name": "python3"
  },
  "language_info": {
   "codemirror_mode": {
    "name": "ipython",
    "version": 3
   },
   "file_extension": ".py",
   "mimetype": "text/x-python",
   "name": "python",
   "nbconvert_exporter": "python",
   "pygments_lexer": "ipython3",
   "version": "3.9.12"
  }
 },
 "nbformat": 4,
 "nbformat_minor": 5
}
