{
 "cells": [
  {
   "cell_type": "code",
   "execution_count": 5,
   "id": "02acdbec",
   "metadata": {},
   "outputs": [
    {
     "data": {
      "text/plain": [
       "'gnimmargorP nohtyP'"
      ]
     },
     "execution_count": 5,
     "metadata": {},
     "output_type": "execute_result"
    }
   ],
   "source": [
    " # Question 1: Reverse the string \"Python Programming\"\n",
    "string = \"Python Programming\"\n",
    "string[::-1]"
   ]
  },
  {
   "cell_type": "code",
   "execution_count": 13,
   "id": "db28d187",
   "metadata": {},
   "outputs": [
    {
     "name": "stdout",
     "output_type": "stream",
     "text": [
      "it is a palidrome\n"
     ]
    }
   ],
   "source": [
    "# Question 2: Check if \"racecar\" is a palindrome\n",
    "word = 'racecar'\n",
    "if word == word[::-1]:\n",
    "    print(\"it is a palidrome\")\n",
    "else:\n",
    "    print(\"it is not a palidrome\")"
   ]
  },
  {
   "cell_type": "code",
   "execution_count": 27,
   "id": "dfa34b3d",
   "metadata": {},
   "outputs": [
    {
     "data": {
      "text/plain": [
       "6"
      ]
     },
     "execution_count": 27,
     "metadata": {},
     "output_type": "execute_result"
    }
   ],
   "source": [
    "# Question 3: Count the number of words in \"Python is a great programming language\"\n",
    "word = \"Python is a great programming language\"\n",
    "len(word.split())"
   ]
  },
  {
   "cell_type": "code",
   "execution_count": 28,
   "id": "2bddf51a",
   "metadata": {},
   "outputs": [
    {
     "data": {
      "text/plain": [
       "'Hello World'"
      ]
     },
     "execution_count": 28,
     "metadata": {},
     "output_type": "execute_result"
    }
   ],
   "source": [
    "# Question 4: Convert \"hello world\" to title case\n",
    "tit = \"hello world\"\n",
    "tit.title()"
   ]
  },
  {
   "cell_type": "code",
   "execution_count": 29,
   "id": "c2324a01",
   "metadata": {},
   "outputs": [
    {
     "data": {
      "text/plain": [
       "12"
      ]
     },
     "execution_count": 29,
     "metadata": {},
     "output_type": "execute_result"
    }
   ],
   "source": [
    "# Question 5: Find the length of string \"Data Science\"\n",
    "sent = \"Data Science\"\n",
    "len(sent)"
   ]
  },
  {
   "cell_type": "code",
   "execution_count": 30,
   "id": "6a89662b",
   "metadata": {},
   "outputs": [
    {
     "data": {
      "text/plain": [
       "'Machine_Learning'"
      ]
     },
     "execution_count": 30,
     "metadata": {},
     "output_type": "execute_result"
    }
   ],
   "source": [
    "# Question 6: Replace all spaces with underscores in \"Machine Learning\"\n",
    "sen = \"Machine Learning\"\n",
    "sen.replace(' ', '_')"
   ]
  },
  {
   "cell_type": "code",
   "execution_count": 46,
   "id": "8894c76b",
   "metadata": {},
   "outputs": [],
   "source": [
    "# Question 7: Check if \"python\" is in \"Python Programming Language\"\n",
    "che = \"PythonProgrammingLanguage\"\n"
   ]
  },
  {
   "cell_type": "code",
   "execution_count": null,
   "id": "b986d614",
   "metadata": {},
   "outputs": [],
   "source": []
  },
  {
   "cell_type": "code",
   "execution_count": null,
   "id": "e93cfed1",
   "metadata": {},
   "outputs": [],
   "source": []
  },
  {
   "cell_type": "code",
   "execution_count": null,
   "id": "56cf217f",
   "metadata": {},
   "outputs": [],
   "source": []
  },
  {
   "cell_type": "code",
   "execution_count": null,
   "id": "9a0d6a83",
   "metadata": {},
   "outputs": [],
   "source": []
  }
 ],
 "metadata": {
  "kernelspec": {
   "display_name": "Python 3 (ipykernel)",
   "language": "python",
   "name": "python3"
  },
  "language_info": {
   "codemirror_mode": {
    "name": "ipython",
    "version": 3
   },
   "file_extension": ".py",
   "mimetype": "text/x-python",
   "name": "python",
   "nbconvert_exporter": "python",
   "pygments_lexer": "ipython3",
   "version": "3.9.12"
  }
 },
 "nbformat": 4,
 "nbformat_minor": 5
}
