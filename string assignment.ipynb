{
 "cells": [
  {
   "cell_type": "code",
   "execution_count": 125,
   "id": "d14274c0",
   "metadata": {},
   "outputs": [],
   "source": [
    "import string"
   ]
  },
  {
   "cell_type": "code",
   "execution_count": 5,
   "id": "ce3d5c23",
   "metadata": {},
   "outputs": [
    {
     "data": {
      "text/plain": [
       "'gnimmargorP nohtyP'"
      ]
     },
     "execution_count": 5,
     "metadata": {},
     "output_type": "execute_result"
    }
   ],
   "source": [
    " # Question 1: Reverse the string \"Python Programming\"\n",
    "string = \"Python Programming\"\n",
    "string[::-1]"
   ]
  },
  {
   "cell_type": "code",
   "execution_count": 13,
   "id": "d495da95",
   "metadata": {},
   "outputs": [
    {
     "name": "stdout",
     "output_type": "stream",
     "text": [
      "it is a palidrome\n"
     ]
    }
   ],
   "source": [
    "# Question 2: Check if \"racecar\" is a palindrome\n",
    "word = 'racecar'\n",
    "if word == word[::-1]:\n",
    "    print(\"it is a palidrome\")\n",
    "else:\n",
    "    print(\"it is not a palidrome\")"
   ]
  },
  {
   "cell_type": "code",
   "execution_count": 27,
   "id": "6464bfbe",
   "metadata": {},
   "outputs": [
    {
     "data": {
      "text/plain": [
       "6"
      ]
     },
     "execution_count": 27,
     "metadata": {},
     "output_type": "execute_result"
    }
   ],
   "source": [
    "# Question 3: Count the number of words in \"Python is a great programming language\"\n",
    "word = \"Python is a great programming language\"\n",
    "len(word.split())"
   ]
  },
  {
   "cell_type": "code",
   "execution_count": 28,
   "id": "339f981a",
   "metadata": {},
   "outputs": [
    {
     "data": {
      "text/plain": [
       "'Hello World'"
      ]
     },
     "execution_count": 28,
     "metadata": {},
     "output_type": "execute_result"
    }
   ],
   "source": [
    "# Question 4: Convert \"hello world\" to title case\n",
    "tit = \"hello world\"\n",
    "tit.title()"
   ]
  },
  {
   "cell_type": "code",
   "execution_count": 29,
   "id": "4ce01d32",
   "metadata": {},
   "outputs": [
    {
     "data": {
      "text/plain": [
       "12"
      ]
     },
     "execution_count": 29,
     "metadata": {},
     "output_type": "execute_result"
    }
   ],
   "source": [
    "# Question 5: Find the length of string \"Data Science\"\n",
    "sent = \"Data Science\"\n",
    "len(sent)"
   ]
  },
  {
   "cell_type": "code",
   "execution_count": 30,
   "id": "a6278e7f",
   "metadata": {},
   "outputs": [
    {
     "data": {
      "text/plain": [
       "'Machine_Learning'"
      ]
     },
     "execution_count": 30,
     "metadata": {},
     "output_type": "execute_result"
    }
   ],
   "source": [
    "# Question 6: Replace all spaces with underscores in \"Machine Learning\"\n",
    "sen = \"Machine Learning\"\n",
    "sen.replace(' ', '_')"
   ]
  },
  {
   "cell_type": "code",
   "execution_count": 52,
   "id": "ab1f5e8e",
   "metadata": {},
   "outputs": [
    {
     "name": "stdout",
     "output_type": "stream",
     "text": [
      "True\n"
     ]
    }
   ],
   "source": [
    "# Question 7: Check if \"python\" is in \"Python Programming Language\"\n",
    "che = \"Python Programming Language\"\n",
    "print('Python' in che)\n"
   ]
  },
  {
   "cell_type": "code",
   "execution_count": 54,
   "id": "a4fd2890",
   "metadata": {},
   "outputs": [
    {
     "data": {
      "text/plain": [
       "'Artifi'"
      ]
     },
     "execution_count": 54,
     "metadata": {},
     "output_type": "execute_result"
    }
   ],
   "source": [
    "# Question 8: Extract the first 5 characters from \"Artificial Intelligence\"\n",
    "sent = \"Artificial Intelligence\"\n",
    "sent[0:6]"
   ]
  },
  {
   "cell_type": "code",
   "execution_count": 55,
   "id": "52526f6a",
   "metadata": {},
   "outputs": [
    {
     "data": {
      "text/plain": [
       "'uppercase'"
      ]
     },
     "execution_count": 55,
     "metadata": {},
     "output_type": "execute_result"
    }
   ],
   "source": [
    "# Question 9: Convert \"UPPERCASE\" to lowercase\n",
    "a = 'UPPERCASE'\n",
    "a.swapcase()"
   ]
  },
  {
   "cell_type": "code",
   "execution_count": 71,
   "id": "dcdbb423",
   "metadata": {},
   "outputs": [
    {
     "name": "stdout",
     "output_type": "stream",
     "text": [
      "Cmptr Scnc\n"
     ]
    }
   ],
   "source": [
    "# Question 10: Remove all vowels from \"Computer Science\"\n",
    "a = \"Computer Science\"\n",
    "vowels = 'aeiouAEIOU'\n",
    "result = ''.join(i for i in a if i not in vowels)\n",
    "print(result)"
   ]
  },
  {
   "cell_type": "code",
   "execution_count": 94,
   "id": "25455369",
   "metadata": {},
   "outputs": [
    {
     "name": "stdout",
     "output_type": "stream",
     "text": [
      "i\n"
     ]
    }
   ],
   "source": [
    "# Question 11: Find the most frequent character in \"mississippi\"\n",
    "char = 'mississippi'\n",
    "frequ = {}\n",
    "for i in char:\n",
    "    frequ[i] = frequ.get(i,0)+1\n",
    "most_fre = max(frequ, key = frequ.get)\n",
    "print(most_fre)"
   ]
  },
  {
   "cell_type": "code",
   "execution_count": 101,
   "id": "834da208",
   "metadata": {},
   "outputs": [
    {
     "name": "stdout",
     "output_type": "stream",
     "text": [
      "listen\n",
      "silent\n",
      "yes it is same\n"
     ]
    }
   ],
   "source": [
    "# Question 12: Check if two strings are anagrams: \"listen\" and \"silent\"\n",
    "a = input()\n",
    "b = input()\n",
    "\n",
    "if sorted(a) == sorted(b):\n",
    "    print('yes it is same')\n",
    "else:\n",
    "    print('it is not same')"
   ]
  },
  {
   "cell_type": "code",
   "execution_count": 103,
   "id": "4bd9f290",
   "metadata": {},
   "outputs": [
    {
     "data": {
      "text/plain": [
       "'Python Programming Language'"
      ]
     },
     "execution_count": 103,
     "metadata": {},
     "output_type": "execute_result"
    }
   ],
   "source": [
    "# Question 13: Capitalize first letter of each word in \"python programming language\"\n",
    "let = \"python programming language\"\n",
    "let.title()"
   ]
  },
  {
   "cell_type": "code",
   "execution_count": 108,
   "id": "d2c1696e",
   "metadata": {},
   "outputs": [
    {
     "data": {
      "text/plain": [
       "8"
      ]
     },
     "execution_count": 108,
     "metadata": {},
     "output_type": "execute_result"
    }
   ],
   "source": [
    "# Question 14: Count consonants in \"Hello World\"\n",
    "let = \"Hello World\"\n",
    "vowels = 'aeiouAEIOU'\n",
    "result = ''.join(i for i in let if i not in vowels)\n",
    "len(result)"
   ]
  },
  {
   "cell_type": "code",
   "execution_count": 194,
   "id": "7319095d",
   "metadata": {},
   "outputs": [
    {
     "data": {
      "text/plain": [
       "'programming'"
      ]
     },
     "execution_count": 194,
     "metadata": {},
     "output_type": "execute_result"
    }
   ],
   "source": [
    "# Question 15: Find the longest word in \"Python is a programming language\"\n",
    "sent = \"Python is a programming language\"\n",
    "max(sent.split(), key = len)"
   ]
  },
  {
   "cell_type": "code",
   "execution_count": 126,
   "id": "145fe9ad",
   "metadata": {},
   "outputs": [
    {
     "data": {
      "text/plain": [
       "'Hello World How are you'"
      ]
     },
     "execution_count": 126,
     "metadata": {},
     "output_type": "execute_result"
    }
   ],
   "source": [
    "# Question 16: Remove all punctuation from \"Hello, World! How are you?\"\n",
    "line = \"Hello, World! How are you?\"\n",
    "conv = ''.join(i for i in line if i not in string.punctuation)\n",
    "conv"
   ]
  },
  {
   "cell_type": "code",
   "execution_count": 130,
   "id": "8b5fc757",
   "metadata": {},
   "outputs": [
    {
     "data": {
      "text/plain": [
       "True"
      ]
     },
     "execution_count": 130,
     "metadata": {},
     "output_type": "execute_result"
    }
   ],
   "source": [
    "# Question 17: Check if string starts with \"Python\"\n",
    "line = 'Python'\n",
    "line.startswith('Python')"
   ]
  },
  {
   "cell_type": "code",
   "execution_count": 132,
   "id": "4384c6c4",
   "metadata": {},
   "outputs": [
    {
     "data": {
      "text/plain": [
       "4"
      ]
     },
     "execution_count": 132,
     "metadata": {},
     "output_type": "execute_result"
    }
   ],
   "source": [
    "# Question 18: Find the index of first occurrence of 'o' in \"Hello World\"\n",
    "line = \"Hello World\"\n",
    "line.index('o')"
   ]
  },
  {
   "cell_type": "code",
   "execution_count": 135,
   "id": "0226644f",
   "metadata": {},
   "outputs": [
    {
     "data": {
      "text/plain": [
       "['apple', 'banana', 'orange']"
      ]
     },
     "execution_count": 135,
     "metadata": {},
     "output_type": "execute_result"
    }
   ],
   "source": [
    "# Question 19: Split string \"apple,banana,orange\" by comma\n",
    "var = \"apple,banana,orange\"\n",
    "var.split(',')"
   ]
  },
  {
   "cell_type": "code",
   "execution_count": 147,
   "id": "d701650b",
   "metadata": {},
   "outputs": [
    {
     "data": {
      "text/plain": [
       "'Python is awesome'"
      ]
     },
     "execution_count": 147,
     "metadata": {},
     "output_type": "execute_result"
    }
   ],
   "source": [
    "# Question 20: Join list ['Python', 'is', 'awesome'] with spaces\n",
    "char = ['Python', 'is', 'awesome']\n",
    "new = ' '.join(char)\n",
    "new"
   ]
  },
  {
   "cell_type": "code",
   "execution_count": 148,
   "id": "f57ae34f",
   "metadata": {},
   "outputs": [
    {
     "data": {
      "text/plain": [
       "True"
      ]
     },
     "execution_count": 148,
     "metadata": {},
     "output_type": "execute_result"
    }
   ],
   "source": [
    "# Question 21: Check if string contains only digits: \"12345\"\n",
    "senten = \"12345\"\n",
    "senten.isdigit()"
   ]
  },
  {
   "cell_type": "code",
   "execution_count": 151,
   "id": "5a59c71f",
   "metadata": {},
   "outputs": [
    {
     "data": {
      "text/plain": [
       "True"
      ]
     },
     "execution_count": 151,
     "metadata": {},
     "output_type": "execute_result"
    }
   ],
   "source": [
    "# Question 22: Check if string contains only letters: \"HelloWorld\"\n",
    "line = \"HelloWorld\"\n",
    "line.isalpha()"
   ]
  },
  {
   "cell_type": "code",
   "execution_count": 159,
   "id": "76a1bef4",
   "metadata": {},
   "outputs": [
    {
     "data": {
      "text/plain": [
       "'hElLo wOrLd'"
      ]
     },
     "execution_count": 159,
     "metadata": {},
     "output_type": "execute_result"
    }
   ],
   "source": [
    "# Question 23: Convert \"hello world\" to \"hElLo WoRlD\" (alternating case)\n",
    "latest = \"hello world\"\n",
    "result = ''\n",
    "i = 0\n",
    "for x in latest:\n",
    "    if i % 2 == 0:\n",
    "        result += x.lower()\n",
    "    else:\n",
    "        result += x.upper()\n",
    "    i += 1\n",
    "result"
   ]
  },
  {
   "cell_type": "code",
   "execution_count": 163,
   "id": "2ead1f13",
   "metadata": {},
   "outputs": [
    {
     "data": {
      "text/plain": [
       "[1, 3, 5]"
      ]
     },
     "execution_count": 163,
     "metadata": {},
     "output_type": "execute_result"
    }
   ],
   "source": [
    "# Question 24: Find all positions of 'a' in \"banana\"\n",
    "line = \"banana\"\n",
    "new = [i for i, val in enumerate(line) if val == 'a']\n",
    "new"
   ]
  },
  {
   "cell_type": "code",
   "execution_count": 164,
   "id": "b7f58d29",
   "metadata": {},
   "outputs": [
    {
     "data": {
      "text/plain": [
       "'Hello World'"
      ]
     },
     "execution_count": 164,
     "metadata": {},
     "output_type": "execute_result"
    }
   ],
   "source": [
    "# Question 25: Remove leading and trailing whitespace from \"  Hello World  \"\n",
    "var = \"  Hello World  \"\n",
    "var.strip()"
   ]
  },
  {
   "cell_type": "code",
   "execution_count": 165,
   "id": "05aabd6b",
   "metadata": {},
   "outputs": [
    {
     "data": {
      "text/plain": [
       "True"
      ]
     },
     "execution_count": 165,
     "metadata": {},
     "output_type": "execute_result"
    }
   ],
   "source": [
    "# Question 26: Check if string ends with \"ing\": \"programming\"\n",
    "word = \"programming\"\n",
    "word.endswith('ing')"
   ]
  },
  {
   "cell_type": "code",
   "execution_count": 181,
   "id": "f0f2abbf",
   "metadata": {},
   "outputs": [
    {
     "data": {
      "text/plain": [
       "'Hell0 World'"
      ]
     },
     "execution_count": 181,
     "metadata": {},
     "output_type": "execute_result"
    }
   ],
   "source": [
    "# Question 27: Replace first occurrence of 'o' with '0' in \"Hello World\"\n",
    "var = \"Hello World\"\n",
    "var.replace('o', '0',1)"
   ]
  },
  {
   "cell_type": "code",
   "execution_count": 193,
   "id": "dfe7602e",
   "metadata": {},
   "outputs": [
    {
     "data": {
      "text/plain": [
       "'a'"
      ]
     },
     "execution_count": 193,
     "metadata": {},
     "output_type": "execute_result"
    }
   ],
   "source": [
    "# Question 28: Find the shortest word in \"Python is a programming language\"\n",
    "latest = \"Python is a programming language\"\n",
    "just = latest.split()\n",
    "min(just, key = len)"
   ]
  },
  {
   "cell_type": "code",
   "execution_count": 195,
   "id": "4f04ba0e",
   "metadata": {},
   "outputs": [
    {
     "data": {
      "text/plain": [
       "2"
      ]
     },
     "execution_count": 195,
     "metadata": {},
     "output_type": "execute_result"
    }
   ],
   "source": [
    "# Question 29: Count words that start with 'p' in \"Python programming is powerful\"\n",
    "var = \"Python programming is powerful\"\n",
    "var.count('p')"
   ]
  },
  {
   "cell_type": "code",
   "execution_count": 196,
   "id": "69a3b206",
   "metadata": {},
   "outputs": [
    {
     "data": {
      "text/plain": [
       "'nohtyP dlroW olleH'"
      ]
     },
     "execution_count": 196,
     "metadata": {},
     "output_type": "execute_result"
    }
   ],
   "source": [
    "# Question 30: Reverse words in \"Hello World Python\"\n",
    "char = \"Hello World Python\"\n",
    "char[::-1]"
   ]
  },
  {
   "cell_type": "code",
   "execution_count": null,
   "id": "750f63fd",
   "metadata": {},
   "outputs": [],
   "source": [
    "# Question 31: Check if string is a valid email format: \"user@example.com\"\n"
   ]
  },
  {
   "cell_type": "code",
   "execution_count": null,
   "id": "58c6ebc7",
   "metadata": {},
   "outputs": [],
   "source": []
  },
  {
   "cell_type": "code",
   "execution_count": null,
   "id": "92b02c1b",
   "metadata": {},
   "outputs": [],
   "source": []
  },
  {
   "cell_type": "code",
   "execution_count": null,
   "id": "0fb3c7d1",
   "metadata": {},
   "outputs": [],
   "source": []
  },
  {
   "cell_type": "code",
   "execution_count": null,
   "id": "7ec3b456",
   "metadata": {},
   "outputs": [],
   "source": []
  },
  {
   "cell_type": "code",
   "execution_count": null,
   "id": "d4a8ebea",
   "metadata": {},
   "outputs": [],
   "source": []
  },
  {
   "cell_type": "code",
   "execution_count": null,
   "id": "adacc3b1",
   "metadata": {},
   "outputs": [],
   "source": []
  }
 ],
 "metadata": {
  "kernelspec": {
   "display_name": "Python 3 (ipykernel)",
   "language": "python",
   "name": "python3"
  },
  "language_info": {
   "codemirror_mode": {
    "name": "ipython",
    "version": 3
   },
   "file_extension": ".py",
   "mimetype": "text/x-python",
   "name": "python",
   "nbconvert_exporter": "python",
   "pygments_lexer": "ipython3",
   "version": "3.9.12"
  }
 },
 "nbformat": 4,
 "nbformat_minor": 5
}
