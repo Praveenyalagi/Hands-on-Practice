{
 "cells": [
  {
   "cell_type": "code",
   "execution_count": 6,
   "id": "05474462",
   "metadata": {},
   "outputs": [],
   "source": [
    "import numpy as np"
   ]
  },
  {
   "cell_type": "code",
   "execution_count": 7,
   "id": "9f82a97f",
   "metadata": {},
   "outputs": [
    {
     "data": {
      "text/plain": [
       "array([[1, 6, 1],\n",
       "       [8, 6, 4],\n",
       "       [5, 1, 2]], dtype=int32)"
      ]
     },
     "execution_count": 7,
     "metadata": {},
     "output_type": "execute_result"
    }
   ],
   "source": [
    "data = np.random.randint(0,10,(3,3))\n",
    "data"
   ]
  },
  {
   "cell_type": "code",
   "execution_count": 8,
   "id": "ee659e4e",
   "metadata": {},
   "outputs": [
    {
     "data": {
      "text/plain": [
       "np.float64(0.057289216350313275)"
      ]
     },
     "execution_count": 8,
     "metadata": {},
     "output_type": "execute_result"
    }
   ],
   "source": [
    "np.random.randn(3,10).mean()"
   ]
  },
  {
   "cell_type": "code",
   "execution_count": null,
   "id": "d1b66ff2",
   "metadata": {},
   "outputs": [],
   "source": []
  },
  {
   "cell_type": "code",
   "execution_count": null,
   "id": "8929d488",
   "metadata": {},
   "outputs": [],
   "source": []
  },
  {
   "cell_type": "code",
   "execution_count": null,
   "id": "4a39212a",
   "metadata": {},
   "outputs": [],
   "source": []
  },
  {
   "cell_type": "code",
   "execution_count": 9,
   "id": "158adace",
   "metadata": {
    "scrolled": true
   },
   "outputs": [
    {
     "name": "stdout",
     "output_type": "stream",
     "text": [
      "[[    1 25000   300  1200    10]\n",
      " [    2 32000   450  1500    15]\n",
      " [    3 28000   380  1100     8]\n",
      " [    4 41000   500  1600    20]\n",
      " [    5 35000   420  1400    12]\n",
      " [    6 27000   360  1300     9]\n",
      " [    7 39000   480  1700    18]\n",
      " [    8 30000   400  1250    14]\n",
      " [    9 45000   550  1800    25]\n",
      " [   10 33000   410  1450    11]]\n"
     ]
    }
   ],
   "source": [
    "import numpy as np\n",
    "\n",
    "# Manually created array: [Store ID, Sales, Customers, Inventory, Returns]\n",
    "retail_data = np.array([\n",
    "    [1, 25000, 300, 1200, 10],\n",
    "    [2, 32000, 450, 1500, 15],\n",
    "    [3, 28000, 380, 1100, 8],\n",
    "    [4, 41000, 500, 1600, 20],\n",
    "    [5, 35000, 420, 1400, 12],\n",
    "    [6, 27000, 360, 1300, 9],\n",
    "    [7, 39000, 480, 1700, 18],\n",
    "    [8, 30000, 400, 1250, 14],\n",
    "    [9, 45000, 550, 1800, 25],\n",
    "    [10, 33000, 410, 1450, 11]\n",
    "])\n",
    "\n",
    "print(retail_data)\n"
   ]
  },
  {
   "cell_type": "code",
   "execution_count": 10,
   "id": "d48d4c96",
   "metadata": {},
   "outputs": [
    {
     "ename": "SyntaxError",
     "evalue": "invalid syntax (2577033590.py, line 1)",
     "output_type": "error",
     "traceback": [
      "\u001b[1;36m  Input \u001b[1;32mIn [10]\u001b[1;36m\u001b[0m\n\u001b[1;33m    [Store ID, Sales, Customers, Inventory, Returns]\u001b[0m\n\u001b[1;37m           ^\u001b[0m\n\u001b[1;31mSyntaxError\u001b[0m\u001b[1;31m:\u001b[0m invalid syntax\n"
     ]
    }
   ],
   "source": [
    "[Store ID, Sales, Customers, Inventory, Returns]"
   ]
  },
  {
   "cell_type": "code",
   "execution_count": 11,
   "id": "456403d1",
   "metadata": {},
   "outputs": [
    {
     "data": {
      "text/plain": [
       "np.int64(335000)"
      ]
     },
     "execution_count": 11,
     "metadata": {},
     "output_type": "execute_result"
    }
   ],
   "source": [
    "retail_data[:,1].sum() # we found total sales"
   ]
  },
  {
   "cell_type": "code",
   "execution_count": 12,
   "id": "41239a1c",
   "metadata": {},
   "outputs": [
    {
     "data": {
      "text/plain": [
       "np.int64(9)"
      ]
     },
     "execution_count": 12,
     "metadata": {},
     "output_type": "execute_result"
    }
   ],
   "source": [
    "retail_data[:,3].argmax()+1 # we found position of highest inventory."
   ]
  },
  {
   "cell_type": "code",
   "execution_count": 13,
   "id": "7f6ec59e",
   "metadata": {},
   "outputs": [
    {
     "data": {
      "text/plain": [
       "np.int64(1)"
      ]
     },
     "execution_count": 13,
     "metadata": {},
     "output_type": "execute_result"
    }
   ],
   "source": [
    "(retail_data[:,1]/retail_data[:,2]).argmax()+1"
   ]
  },
  {
   "cell_type": "markdown",
   "id": "78eb9420",
   "metadata": {},
   "source": [
    "### Basic Performance Analysis"
   ]
  },
  {
   "cell_type": "code",
   "execution_count": 14,
   "id": "c97af8fe",
   "metadata": {},
   "outputs": [
    {
     "data": {
      "text/plain": [
       "np.int64(4790500000)"
      ]
     },
     "execution_count": 14,
     "metadata": {},
     "output_type": "execute_result"
    }
   ],
   "source": [
    "# 1. What is the **total revenue** generated across all stores?\n",
    "tot_rev = retail_data[:,1].sum() * retail_data[:,3].sum()\n",
    "tot_rev"
   ]
  },
  {
   "cell_type": "code",
   "execution_count": 15,
   "id": "a5c9324c",
   "metadata": {},
   "outputs": [
    {
     "data": {
      "text/plain": [
       "np.int64(9)"
      ]
     },
     "execution_count": 15,
     "metadata": {},
     "output_type": "execute_result"
    }
   ],
   "source": [
    "# 2. Which store recorded the **highest sales**?\n",
    "retail_data[:,1].argmax()+1"
   ]
  },
  {
   "cell_type": "code",
   "execution_count": 16,
   "id": "97d278f6",
   "metadata": {},
   "outputs": [
    {
     "data": {
      "text/plain": [
       "np.int64(1)"
      ]
     },
     "execution_count": 16,
     "metadata": {},
     "output_type": "execute_result"
    }
   ],
   "source": [
    "# 3. Which store recorded the **lowest sales**?\n",
    "retail_data[:,1].argmin()+1"
   ]
  },
  {
   "cell_type": "code",
   "execution_count": 17,
   "id": "bebcfa20",
   "metadata": {},
   "outputs": [
    {
     "data": {
      "text/plain": [
       "np.float64(33500.0)"
      ]
     },
     "execution_count": 17,
     "metadata": {},
     "output_type": "execute_result"
    }
   ],
   "source": [
    "# 4. What is the **average daily sales** per store?\n",
    "retail_data[:,1].sum() / 10"
   ]
  },
  {
   "cell_type": "code",
   "execution_count": 23,
   "id": "8978fabf",
   "metadata": {},
   "outputs": [
    {
     "data": {
      "text/plain": [
       "array([41000, 39000, 45000])"
      ]
     },
     "execution_count": 23,
     "metadata": {},
     "output_type": "execute_result"
    }
   ],
   "source": [
    "# 5. How many stores achieved sales **above ₹35,000**?\n",
    "data = (retail_data[:,1])\n",
    "data[data > 35000]"
   ]
  },
  {
   "cell_type": "code",
   "execution_count": null,
   "id": "a055e702",
   "metadata": {},
   "outputs": [],
   "source": []
  },
  {
   "cell_type": "markdown",
   "id": "c586455c",
   "metadata": {},
   "source": [
    "### Customer Insights\n"
   ]
  },
  {
   "cell_type": "code",
   "execution_count": 25,
   "id": "1a5bc7a4",
   "metadata": {},
   "outputs": [
    {
     "data": {
      "text/plain": [
       "np.int64(9)"
      ]
     },
     "execution_count": 25,
     "metadata": {},
     "output_type": "execute_result"
    }
   ],
   "source": [
    "# 6. Which store had the **highest customer footfall**?\n",
    "retail_data[:,2].argmax()+1"
   ]
  },
  {
   "cell_type": "code",
   "execution_count": 29,
   "id": "0cef58a2",
   "metadata": {},
   "outputs": [
    {
     "data": {
      "text/plain": [
       "np.float64(425.0)"
      ]
     },
     "execution_count": 29,
     "metadata": {},
     "output_type": "execute_result"
    }
   ],
   "source": [
    "# 7. What is the **average number of customers** per store?\n",
    "retail_data[:,2].mean()"
   ]
  },
  {
   "cell_type": "code",
   "execution_count": 32,
   "id": "b8cb1d48",
   "metadata": {},
   "outputs": [
    {
     "data": {
      "text/plain": [
       "array([500, 480, 550])"
      ]
     },
     "execution_count": 32,
     "metadata": {},
     "output_type": "execute_result"
    }
   ],
   "source": [
    "# 8. How many stores have **more than 450 customers**?\n",
    "dat = retail_data[:,2]\n",
    "dat[dat>450]"
   ]
  },
  {
   "cell_type": "code",
   "execution_count": 35,
   "id": "57279371",
   "metadata": {},
   "outputs": [
    {
     "data": {
      "text/plain": [
       "np.int64(1)"
      ]
     },
     "execution_count": 35,
     "metadata": {},
     "output_type": "execute_result"
    }
   ],
   "source": [
    "# 9. Which store has the **lowest customer count**?\n",
    "retail_data[:,2].argmin()+1"
   ]
  },
  {
   "cell_type": "code",
   "execution_count": 62,
   "id": "43ff40be",
   "metadata": {},
   "outputs": [
    {
     "data": {
      "text/plain": [
       "array([[    5, 35000,   420,  1400,    12]])"
      ]
     },
     "execution_count": 62,
     "metadata": {},
     "output_type": "execute_result"
    }
   ],
   "source": [
    "# 10. Is there any store where **high sales do not correspond to high customers**?\n",
    "sal = retail_data[:,1].mean()\n",
    "cus = retail_data[:,2].mean()\n",
    "mis = retail_data[(retail_data[:,1] > sal) & (retail_data[:,2] < cus)]\n",
    "mis"
   ]
  },
  {
   "cell_type": "code",
   "execution_count": null,
   "id": "e3d0d09a",
   "metadata": {},
   "outputs": [],
   "source": []
  },
  {
   "cell_type": "markdown",
   "id": "e72685bb",
   "metadata": {},
   "source": [
    "### Inventory & Returns Analysis\n"
   ]
  },
  {
   "cell_type": "code",
   "execution_count": 64,
   "id": "aab5bc62",
   "metadata": {},
   "outputs": [
    {
     "data": {
      "text/plain": [
       "np.int64(14300)"
      ]
     },
     "execution_count": 64,
     "metadata": {},
     "output_type": "execute_result"
    }
   ],
   "source": [
    "# 11. What is the **total inventory** across all stores?\n",
    "retail_data[:,3].sum()"
   ]
  },
  {
   "cell_type": "code",
   "execution_count": 65,
   "id": "3405204e",
   "metadata": {},
   "outputs": [
    {
     "data": {
      "text/plain": [
       "np.int64(9)"
      ]
     },
     "execution_count": 65,
     "metadata": {},
     "output_type": "execute_result"
    }
   ],
   "source": [
    "# 12. Which store has the **highest inventory stock**?\n",
    "retail_data[:,3].argmax()+1"
   ]
  },
  {
   "cell_type": "code",
   "execution_count": 69,
   "id": "62031e20",
   "metadata": {},
   "outputs": [
    {
     "data": {
      "text/plain": [
       "array([[    1, 25000,   300,  1200,    10],\n",
       "       [    3, 28000,   380,  1100,     8],\n",
       "       [    8, 30000,   400,  1250,    14]])"
      ]
     },
     "execution_count": 69,
     "metadata": {},
     "output_type": "execute_result"
    }
   ],
   "source": [
    "# 13. How many stores have **inventory less than 1300 units**?\n",
    "lowest_inve = retail_data[(retail_data[:,3]) < 1300]\n",
    "lowest_inve"
   ]
  },
  {
   "cell_type": "code",
   "execution_count": 80,
   "id": "cf8be525",
   "metadata": {},
   "outputs": [
    {
     "data": {
      "text/plain": [
       "np.int64(9)"
      ]
     },
     "execution_count": 80,
     "metadata": {},
     "output_type": "execute_result"
    }
   ],
   "source": [
    "# 14. Which store has the **highest return rate** (returns ÷ inventory)?\n",
    "ret_rate = (retail_data[:,4]) / (retail_data[:,3])\n",
    "ret_rate.argmax()+1"
   ]
  },
  {
   "cell_type": "code",
   "execution_count": 84,
   "id": "f30a4c98",
   "metadata": {},
   "outputs": [
    {
     "data": {
      "text/plain": [
       "array([[    4, 41000,   500,  1600,    20],\n",
       "       [    7, 39000,   480,  1700,    18],\n",
       "       [    9, 45000,   550,  1800,    25]])"
      ]
     },
     "execution_count": 84,
     "metadata": {},
     "output_type": "execute_result"
    }
   ],
   "source": [
    "# 15. Which stores have **returns greater than 15 units**?\n",
    "ret = retail_data[(retail_data[:,4]) > 15]\n",
    "ret"
   ]
  },
  {
   "cell_type": "code",
   "execution_count": null,
   "id": "834dae40",
   "metadata": {},
   "outputs": [],
   "source": []
  },
  {
   "cell_type": "markdown",
   "id": "869342f0",
   "metadata": {},
   "source": [
    "### Sales & customer Correlation"
   ]
  },
  {
   "cell_type": "code",
   "execution_count": 85,
   "id": "f54ef328",
   "metadata": {},
   "outputs": [],
   "source": [
    "# 16. Is there a **positive correlation** between sales and customers?\n"
   ]
  },
  {
   "cell_type": "code",
   "execution_count": 86,
   "id": "1ea6dcf7",
   "metadata": {},
   "outputs": [
    {
     "data": {
      "text/plain": [
       "array([[    2, 32000,   450,  1500,    15]])"
      ]
     },
     "execution_count": 86,
     "metadata": {},
     "output_type": "execute_result"
    }
   ],
   "source": [
    "# 17. Which store has **high customer visits but low sales**?\n",
    "first = retail_data[:,2].mean()\n",
    "sec = retail_data[:,1].mean()\n",
    "res = retail_data[(retail_data[:,2] > first) & (retail_data[:,1] < sec)]\n",
    "res"
   ]
  },
  {
   "cell_type": "code",
   "execution_count": 87,
   "id": "5d3eaa35",
   "metadata": {},
   "outputs": [
    {
     "data": {
      "text/plain": [
       "array([[    5, 35000,   420,  1400,    12]])"
      ]
     },
     "execution_count": 87,
     "metadata": {},
     "output_type": "execute_result"
    }
   ],
   "source": [
    "# 18. Which store has **low customers but high sales**?\n",
    "first = retail_data[:,2].mean()\n",
    "sec = retail_data[:,1].mean()\n",
    "res = retail_data[(retail_data[:,2] < first) & (retail_data[:,1] > sec)]\n",
    "res"
   ]
  },
  {
   "cell_type": "code",
   "execution_count": 115,
   "id": "a7644167",
   "metadata": {},
   "outputs": [
    {
     "data": {
      "text/plain": [
       "np.int64(0)"
      ]
     },
     "execution_count": 115,
     "metadata": {},
     "output_type": "execute_result"
    }
   ],
   "source": [
    "# 19. How many stores have **sales per customer above ₹90**?\n",
    "res = retail_data[:,1] / retail_data[:,2]\n",
    "new = np.sum(res > 90)\n",
    "new"
   ]
  },
  {
   "cell_type": "code",
   "execution_count": 116,
   "id": "5089e26c",
   "metadata": {},
   "outputs": [],
   "source": [
    "# 20. Which stores could **benefit from customer acquisition campaigns** (low customers, high inventory)?\n"
   ]
  },
  {
   "cell_type": "code",
   "execution_count": null,
   "id": "23fbe1b1",
   "metadata": {},
   "outputs": [],
   "source": []
  },
  {
   "cell_type": "markdown",
   "id": "820dc123",
   "metadata": {},
   "source": [
    "### Profitability & Growth"
   ]
  },
  {
   "cell_type": "code",
   "execution_count": 117,
   "id": "04651299",
   "metadata": {},
   "outputs": [
    {
     "data": {
      "text/plain": [
       "array([5000., 6400., 5600., 8200., 7000., 5400., 7800., 6000., 9000.,\n",
       "       6600.])"
      ]
     },
     "execution_count": 117,
     "metadata": {},
     "output_type": "execute_result"
    }
   ],
   "source": [
    "# 21. If profit margin is **20% of sales**, what is the **profit per store**?\n",
    "res = 0.20 * retail_data[:,1]\n",
    "res"
   ]
  },
  {
   "cell_type": "code",
   "execution_count": 120,
   "id": "e8cf3aa5",
   "metadata": {},
   "outputs": [
    {
     "data": {
      "text/plain": [
       "np.int64(9)"
      ]
     },
     "execution_count": 120,
     "metadata": {},
     "output_type": "execute_result"
    }
   ],
   "source": [
    "# 22. Which store has the **highest profit**?\n",
    "(retail_data[:,1] * 0.20).argmax()+1"
   ]
  },
  {
   "cell_type": "code",
   "execution_count": 121,
   "id": "d3772c38",
   "metadata": {},
   "outputs": [
    {
     "data": {
      "text/plain": [
       "np.int64(1)"
      ]
     },
     "execution_count": 121,
     "metadata": {},
     "output_type": "execute_result"
    }
   ],
   "source": [
    "# 23. Which store has the **lowest profit**?\n",
    "(retail_data[:,1] * 0.20).argmin()+1"
   ]
  },
  {
   "cell_type": "code",
   "execution_count": 126,
   "id": "a0273965",
   "metadata": {},
   "outputs": [
    {
     "data": {
      "text/plain": [
       "array([2500., 3200., 2800., 4100., 3500., 2700., 3900., 3000., 4500.,\n",
       "       3300.])"
      ]
     },
     "execution_count": 126,
     "metadata": {},
     "output_type": "execute_result"
    }
   ],
   "source": [
    "# 24. If sales increase by **10% next month**, what are the **new sales figures**?\n",
    "retail_data[:,1] * 0.10"
   ]
  },
  {
   "cell_type": "code",
   "execution_count": 124,
   "id": "1f49c069",
   "metadata": {},
   "outputs": [
    {
     "data": {
      "text/plain": [
       "array([27500., 35200., 30800., 45100., 38500., 29700., 42900., 33000.,\n",
       "       49500., 36300.])"
      ]
     },
     "execution_count": 124,
     "metadata": {},
     "output_type": "execute_result"
    }
   ],
   "source": [
    "# 25. How will **total profit** change with the 10% sales increase?\n",
    "(retail_data[:,1] * 0.10) + retail_data[:,1]"
   ]
  },
  {
   "cell_type": "code",
   "execution_count": null,
   "id": "1c83ac96",
   "metadata": {},
   "outputs": [],
   "source": []
  },
  {
   "cell_type": "markdown",
   "id": "b12f224f",
   "metadata": {},
   "source": [
    "### Operational Strategy\n"
   ]
  },
  {
   "cell_type": "code",
   "execution_count": 130,
   "id": "138924e2",
   "metadata": {},
   "outputs": [
    {
     "data": {
      "text/plain": [
       "array([[    5, 35000,   420,  1400,    12]])"
      ]
     },
     "execution_count": 130,
     "metadata": {},
     "output_type": "execute_result"
    }
   ],
   "source": [
    "# 26. Which stores need **inventory restocking** based on sales and current stock?\n",
    "sal = retail_data[:,1].mean()\n",
    "ret = retail_data[:,4].mean()\n",
    "res = retail_data[(retail_data[:,1] > sal) & (retail_data[:,4] < ret)]\n",
    "res"
   ]
  },
  {
   "cell_type": "code",
   "execution_count": 136,
   "id": "81594c4b",
   "metadata": {},
   "outputs": [
    {
     "data": {
      "text/plain": [
       "array([[    2, 32000,   450,  1500,    15],\n",
       "       [    4, 41000,   500,  1600,    20],\n",
       "       [    7, 39000,   480,  1700,    18],\n",
       "       [    9, 45000,   550,  1800,    25]])"
      ]
     },
     "execution_count": 136,
     "metadata": {},
     "output_type": "execute_result"
    }
   ],
   "source": [
    "# 27. Which stores show **high returns percentage** and might require **quality checks**?\n",
    "aver = retail_data[:,4].mean()\n",
    "res = retail_data[(retail_data[:,4] > aver)]\n",
    "res"
   ]
  },
  {
   "cell_type": "code",
   "execution_count": 138,
   "id": "5c45f415",
   "metadata": {},
   "outputs": [
    {
     "name": "stdout",
     "output_type": "stream",
     "text": [
      "Best performer overall: Store ID 9\n",
      "Sales: 45000, Customers: 550, Inventory: 25\n"
     ]
    }
   ],
   "source": [
    "# 28. Which store is the **best performer overall** (sales, customers, inventory turnover)?\n",
    "inventory_turnover = retail_data[:, 1] / retail_data[:, 4]\n",
    "\n",
    "# Normalize metrics (min-max scaling)\n",
    "sales_norm = (retail_data[:, 1] - retail_data[:, 1].min()) / (retail_data[:, 1].max() - retail_data[:, 1].min())\n",
    "customers_norm = (retail_data[:, 2] - retail_data[:, 2].min()) / (retail_data[:, 2].max() - retail_data[:, 2].min())\n",
    "turnover_norm = (inventory_turnover - inventory_turnover.min()) / (inventory_turnover.max() - inventory_turnover.min())\n",
    "\n",
    "# Composite score (equal weights)\n",
    "overall_score = sales_norm + customers_norm + turnover_norm\n",
    "\n",
    "# Find best performer\n",
    "best_index = np.argmax(overall_score)\n",
    "best_store = retail_data[best_index]\n",
    "\n",
    "print(f\"Best performer overall: Store ID {int(best_store[0])}\")\n",
    "print(f\"Sales: {best_store[1]}, Customers: {best_store[2]}, Inventory: {best_store[4]}\")"
   ]
  },
  {
   "cell_type": "code",
   "execution_count": 139,
   "id": "29eb16c6",
   "metadata": {},
   "outputs": [
    {
     "name": "stdout",
     "output_type": "stream",
     "text": [
      "Worst performer overall: Store ID 1\n",
      "Sales: 25000, Customers: 300, Inventory: 10\n"
     ]
    }
   ],
   "source": [
    "# 29. Which store is the **worst performer overall**?\n",
    "inventory_turnover = retail_data[:, 1] / retail_data[:, 4]\n",
    "\n",
    "# Normalize metrics (min-max scaling)\n",
    "sales_norm = (retail_data[:, 1] - retail_data[:, 1].min()) / (retail_data[:, 1].max() - retail_data[:, 1].min())\n",
    "customers_norm = (retail_data[:, 2] - retail_data[:, 2].min()) / (retail_data[:, 2].max() - retail_data[:, 2].min())\n",
    "turnover_norm = (inventory_turnover - inventory_turnover.min()) / (inventory_turnover.max() - inventory_turnover.min())\n",
    "\n",
    "# Composite score (equal weights)\n",
    "overall_score = sales_norm + customers_norm + turnover_norm\n",
    "\n",
    "# Find worst performer\n",
    "worst_index = np.argmin(overall_score)\n",
    "worst_store = retail_data[worst_index]\n",
    "\n",
    "print(f\"Worst performer overall: Store ID {int(worst_store[0])}\")\n",
    "print(f\"Sales: {worst_store[1]}, Customers: {worst_store[2]}, Inventory: {worst_store[4]}\")\n"
   ]
  },
  {
   "cell_type": "code",
   "execution_count": 142,
   "id": "23918e86",
   "metadata": {},
   "outputs": [
    {
     "data": {
      "text/plain": [
       "array([[    4, 41000,   500,  1600,    20],\n",
       "       [    7, 39000,   480,  1700,    18],\n",
       "       [    9, 45000,   550,  1800,    25]])"
      ]
     },
     "execution_count": 142,
     "metadata": {},
     "output_type": "execute_result"
    }
   ],
   "source": [
    "# 30. Which stores can be considered for **expansion** based on strong sales and customer metrics?\n",
    "a = retail_data[:,1].mean()\n",
    "b = retail_data[:,2].mean()\n",
    "res = retail_data[(retail_data[:,1] > a) & (retail_data[:,2] > b)]\n",
    "res"
   ]
  },
  {
   "cell_type": "code",
   "execution_count": null,
   "id": "cd43f960",
   "metadata": {},
   "outputs": [],
   "source": []
  },
  {
   "cell_type": "code",
   "execution_count": null,
   "id": "237066c8",
   "metadata": {},
   "outputs": [],
   "source": []
  },
  {
   "cell_type": "code",
   "execution_count": null,
   "id": "5f5370ce",
   "metadata": {},
   "outputs": [],
   "source": []
  },
  {
   "cell_type": "code",
   "execution_count": null,
   "id": "55a172ba",
   "metadata": {},
   "outputs": [],
   "source": []
  },
  {
   "cell_type": "code",
   "execution_count": null,
   "id": "65b1bfcf",
   "metadata": {},
   "outputs": [],
   "source": []
  }
 ],
 "metadata": {
  "kernelspec": {
   "display_name": "Python 3 (ipykernel)",
   "language": "python",
   "name": "python3"
  },
  "language_info": {
   "codemirror_mode": {
    "name": "ipython",
    "version": 3
   },
   "file_extension": ".py",
   "mimetype": "text/x-python",
   "name": "python",
   "nbconvert_exporter": "python",
   "pygments_lexer": "ipython3",
   "version": "3.9.12"
  }
 },
 "nbformat": 4,
 "nbformat_minor": 5
}
