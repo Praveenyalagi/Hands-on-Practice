{
 "cells": [
  {
   "cell_type": "code",
   "execution_count": 7,
   "id": "9b515371",
   "metadata": {},
   "outputs": [
    {
     "data": {
      "text/plain": [
       "{'Praveen': 27, 'Vamsi': 25, 'Bharath': 24}"
      ]
     },
     "execution_count": 7,
     "metadata": {},
     "output_type": "execute_result"
    }
   ],
   "source": [
    "# Question 1: Create a dictionary of student names and their ages\n",
    "stu = {'Praveen': 27, \"Vamsi\" : 25, \"Bharath\": 24}\n",
    "stu"
   ]
  },
  {
   "cell_type": "code",
   "execution_count": 15,
   "id": "efb7616f",
   "metadata": {},
   "outputs": [
    {
     "data": {
      "text/plain": [
       "{'a': 1, 'b': 2, 'c': 3, 'd': 4}"
      ]
     },
     "execution_count": 15,
     "metadata": {},
     "output_type": "execute_result"
    }
   ],
   "source": [
    "# Question 2: Add a new key-value pair to dictionary {'a': 1, 'b': 2, 'c': 3}\n",
    "a = {'a': 1, 'b': 2, 'c': 3}\n",
    "a['d'] = 4 \n",
    "a"
   ]
  },
  {
   "cell_type": "code",
   "execution_count": 19,
   "id": "933f6cee",
   "metadata": {},
   "outputs": [
    {
     "data": {
      "text/plain": [
       "dict_keys(['name', 'age', 'city'])"
      ]
     },
     "execution_count": 19,
     "metadata": {},
     "output_type": "execute_result"
    }
   ],
   "source": [
    "# Question 3: Get all keys from dictionary {'name': 'John', 'age': 25, 'city': 'New York'}\n",
    "s = {'name': 'John', 'age': 25, 'city': 'New York'}\n",
    "s.keys()"
   ]
  },
  {
   "cell_type": "code",
   "execution_count": 20,
   "id": "e1cf659a",
   "metadata": {},
   "outputs": [
    {
     "data": {
      "text/plain": [
       "dict_values([3, 2, 1])"
      ]
     },
     "execution_count": 20,
     "metadata": {},
     "output_type": "execute_result"
    }
   ],
   "source": [
    "# Question 4: Get all values from dictionary {'python': 3, 'java': 2, 'c++': 1}\n",
    "b = {'python': 3, 'java': 2, 'c++': 1}\n",
    "b.values()"
   ]
  },
  {
   "cell_type": "code",
   "execution_count": 23,
   "id": "3578bebe",
   "metadata": {},
   "outputs": [
    {
     "name": "stdout",
     "output_type": "stream",
     "text": [
      "It is available\n"
     ]
    }
   ],
   "source": [
    "# Question 5: Check if key 'age' exists in {'name': 'Alice', 'age': 30, 'city': 'London'}\n",
    "di = {'name': 'Alice', 'age': 30, 'city': 'London'}\n",
    "if 'age' in di:\n",
    "    print('It is available')\n",
    "else:\n",
    "    pritn('It is not there')"
   ]
  },
  {
   "cell_type": "code",
   "execution_count": 27,
   "id": "b380f8dd",
   "metadata": {},
   "outputs": [
    {
     "data": {
      "text/plain": [
       "{'a': 1, 'b': 2, 'c': 4}"
      ]
     },
     "execution_count": 27,
     "metadata": {},
     "output_type": "execute_result"
    }
   ],
   "source": [
    "# Question 6: Remove key 'temp' from {'a': 1, 'b': 2, 'temp': 3, 'c': 4}\n",
    "r = {'a': 1, 'b': 2, 'temp': 3, 'c': 4}\n",
    "del r['temp']\n",
    "r"
   ]
  },
  {
   "cell_type": "code",
   "execution_count": 29,
   "id": "c60afd62",
   "metadata": {},
   "outputs": [
    {
     "data": {
      "text/plain": [
       "255"
      ]
     },
     "execution_count": 29,
     "metadata": {},
     "output_type": "execute_result"
    }
   ],
   "source": [
    "# Question 7: Find the sum of all values in {'math': 85, 'science': 92, 'english': 78}\n",
    "al = {'math': 85, 'science': 92, 'english': 78}\n",
    "sum(al.values())"
   ]
  },
  {
   "cell_type": "code",
   "execution_count": 30,
   "id": "5276e120",
   "metadata": {},
   "outputs": [
    {
     "data": {
      "text/plain": [
       "{1: 1, 2: 4, 3: 9, 4: 16, 5: 25}"
      ]
     },
     "execution_count": 30,
     "metadata": {},
     "output_type": "execute_result"
    }
   ],
   "source": [
    "# Question 8: Create a dictionary with squares of numbers 1 to 5\n",
    "sq = {p: p**2 for p in range(1,6)}\n",
    "sq"
   ]
  },
  {
   "cell_type": "code",
   "execution_count": 33,
   "id": "65a5b4cc",
   "metadata": {},
   "outputs": [
    {
     "name": "stdout",
     "output_type": "stream",
     "text": [
      "{'h': 1, 'e': 1, 'l': 2, 'o': 1}\n"
     ]
    }
   ],
   "source": [
    "# Question 9: Count frequency of each character in string \"hello\"\n",
    "text = \"hello\"\n",
    "freq = {}\n",
    "\n",
    "for char in text:\n",
    "    if char in freq:\n",
    "        freq[char] += 1\n",
    "    else:\n",
    "        freq[char] = 1\n",
    "\n",
    "print(freq)"
   ]
  },
  {
   "cell_type": "code",
   "execution_count": 39,
   "id": "3891618f",
   "metadata": {},
   "outputs": [
    {
     "data": {
      "text/plain": [
       "{'a': 1, 'b': 2, 'c': 3, 'd': 4}"
      ]
     },
     "execution_count": 39,
     "metadata": {},
     "output_type": "execute_result"
    }
   ],
   "source": [
    "# Question 10: Merge two dictionaries {'a': 1, 'b': 2} and {'c': 3, 'd': 4}\n",
    "p = {'a': 1, 'b': 2}\n",
    "q = {'c': 3, 'd': 4}\n",
    "p.update(q)\n",
    "p"
   ]
  },
  {
   "cell_type": "code",
   "execution_count": 46,
   "id": "097966f5",
   "metadata": {},
   "outputs": [
    {
     "name": "stdout",
     "output_type": "stream",
     "text": [
      "{'person': {'name': 'Alice', 'age': 25}}\n",
      "{'depart': {'Transport': 1, 'Telecom': 2}}\n"
     ]
    }
   ],
   "source": [
    "# Question 11: Create a nested dictionary: {'person': {'name': 'Alice', 'age': 25}}\n",
    "f = {'person': {'name': 'Alice', 'age': 25}}\n",
    "g = {'depart':{'Transport': 1, 'Telecom':2}}\n",
    "print(f)\n",
    "print(g)"
   ]
  },
  {
   "cell_type": "code",
   "execution_count": 10,
   "id": "48a648ab",
   "metadata": {},
   "outputs": [
    {
     "data": {
      "text/plain": [
       "'Alice'"
      ]
     },
     "execution_count": 10,
     "metadata": {},
     "output_type": "execute_result"
    }
   ],
   "source": [
    "# Question 12: Access nested value 'name' from {'person': {'name': 'Alice', 'age': 25}}\n",
    "data = {'person': {'name': 'Alice', 'age': 25}}\n",
    "b = data['person']['name']\n",
    "b"
   ]
  },
  {
   "cell_type": "code",
   "execution_count": 11,
   "id": "da0621ec",
   "metadata": {},
   "outputs": [
    {
     "data": {
      "text/plain": [
       "{'Google': ['social media', 'backend'], 'Amazon': ['Grocery', 'Electronics']}"
      ]
     },
     "execution_count": 11,
     "metadata": {},
     "output_type": "execute_result"
    }
   ],
   "source": [
    "# Question 13: Create a dictionary with list values: {'fruits': ['apple', 'banana'], 'colors': ['red', 'blue']}\n",
    "com = {'Google': ['social media', 'backend'], 'Amazon': ['Grocery', 'Electronics']}\n",
    "com"
   ]
  },
  {
   "cell_type": "code",
   "execution_count": 23,
   "id": "791cace6",
   "metadata": {},
   "outputs": [
    {
     "name": "stdout",
     "output_type": "stream",
     "text": [
      "{'fruits': {'yellow': 'mango', 'pink': 'dragon fruit', 'color': 'orange'}}\n"
     ]
    }
   ],
   "source": [
    "# Question 14: Add 'orange' to the 'fruits' list in nested dictionary\n",
    "x = {'fruits':{'yellow': 'mango', 'pink': 'dragon fruit'} }\n",
    "y = x['fruits']['color'] = 'orange'\n",
    "print(x)\n"
   ]
  },
  {
   "cell_type": "code",
   "execution_count": 29,
   "id": "732b7e5b",
   "metadata": {},
   "outputs": [
    {
     "data": {
      "text/plain": [
       "{'male': ('rahul', 'virat'), 'female': ('rani', 'rukmini')}"
      ]
     },
     "execution_count": 29,
     "metadata": {},
     "output_type": "execute_result"
    }
   ],
   "source": [
    "# Question 15: Create a dictionary with tuple values: {'coordinates': (10, 20), 'rgb': (255, 0, 0)}\n",
    "num = {'male':('rahul','virat'), 'female':('rani','rukmini')}\n",
    "num"
   ]
  },
  {
   "cell_type": "code",
   "execution_count": 30,
   "id": "b133e547",
   "metadata": {},
   "outputs": [
    {
     "data": {
      "text/plain": [
       "10"
      ]
     },
     "execution_count": 30,
     "metadata": {},
     "output_type": "execute_result"
    }
   ],
   "source": [
    "# Question 16: Extract first coordinate from nested tuple\n",
    "m = {'coordinates': (10, 20), 'rgb': (255, 0, 0)}\n",
    "n = m['coordinates'][0]\n",
    "n"
   ]
  },
  {
   "cell_type": "code",
   "execution_count": 31,
   "id": "923db914",
   "metadata": {},
   "outputs": [
    {
     "data": {
      "text/plain": [
       "{'even': {2, 4, 8}, 'odd': {3, 5, 7}}"
      ]
     },
     "execution_count": 31,
     "metadata": {},
     "output_type": "execute_result"
    }
   ],
   "source": [
    "# Question 17: Create a dictionary with set values: {'vowels': {'a', 'e', 'i'}, 'consonants': {'b', 'c', 'd'}}\n",
    "mat = {'even':{2,4,8}, 'odd':{3,5,7}}\n",
    "mat"
   ]
  },
  {
   "cell_type": "code",
   "execution_count": 39,
   "id": "5b48dbae",
   "metadata": {},
   "outputs": [
    {
     "data": {
      "text/plain": [
       "{'vowels': {'a', 'e', 'i', 'o'}, 'consonants': {'b', 'c', 'd'}}"
      ]
     },
     "execution_count": 39,
     "metadata": {},
     "output_type": "execute_result"
    }
   ],
   "source": [
    "# Question 18: Add 'o' to vowels set in nested dictionary\n",
    "vow = {'vowels': {'a', 'e', 'i'}, 'consonants': {'b', 'c', 'd'}}\n",
    "vow['vowels'].add('o')\n",
    "vow"
   ]
  },
  {
   "cell_type": "code",
   "execution_count": 44,
   "id": "f5279701",
   "metadata": {},
   "outputs": [
    {
     "data": {
      "text/plain": [
       "{'universe': {'galaxy': {'earth': {'India'}}}}"
      ]
     },
     "execution_count": 44,
     "metadata": {},
     "output_type": "execute_result"
    }
   ],
   "source": [
    "# Question 19: Create a 3-level nested dictionary: {'company': {'department': {'employee': {'name': 'John', 'id': 123}}}}\n",
    "planet = {'universe':{'galaxy':{'earth':{'India'}}}}\n",
    "planet"
   ]
  },
  {
   "cell_type": "code",
   "execution_count": 59,
   "id": "7972b4e3",
   "metadata": {},
   "outputs": [
    {
     "data": {
      "text/plain": [
       "'John'"
      ]
     },
     "execution_count": 59,
     "metadata": {},
     "output_type": "execute_result"
    }
   ],
   "source": [
    "# Question 20: Access employee name from 3-level nested dictionary\n",
    "em = {'company': {'department': {'employee': {'name': 'John', 'id': 123}}}}\n",
    "em['company']['department']['employee']['name']"
   ]
  },
  {
   "cell_type": "code",
   "execution_count": 61,
   "id": "a0750cf8",
   "metadata": {},
   "outputs": [
    {
     "data": {
      "text/plain": [
       "{'int': 95, 'float': 3.147, 'bool': 'True', 'str': 'praveen'}"
      ]
     },
     "execution_count": 61,
     "metadata": {},
     "output_type": "execute_result"
    }
   ],
   "source": [
    "# Question 21: Create a dictionary with mixed data types: {'int': 42, 'float': 3.14, 'str': 'hello', 'bool': True}\n",
    "d_type = {'int': 95, 'float': 3.147, 'bool': 'True', 'str': 'praveen'}\n",
    "d_type"
   ]
  },
  {
   "cell_type": "code",
   "execution_count": 94,
   "id": "3bf86265",
   "metadata": {},
   "outputs": [
    {
     "name": "stdout",
     "output_type": "stream",
     "text": [
      "95 = int\n",
      "3.147 = float\n",
      "True = bool\n",
      "praveen = str\n"
     ]
    }
   ],
   "source": [
    "# Question 22: Check data type of each value in mixed dictionary\n",
    "d = {'int': 95, 'float': 3.147, 'bool': 'True', 'str': 'praveen'}\n",
    "\n",
    "for key, value in d.items():\n",
    "    print(f'{value} = {key}')"
   ]
  },
  {
   "cell_type": "code",
   "execution_count": 100,
   "id": "308fa6e1",
   "metadata": {},
   "outputs": [
    {
     "data": {
      "text/plain": [
       "{'len': 3, 'str': 'string', 'int': 725}"
      ]
     },
     "execution_count": 100,
     "metadata": {},
     "output_type": "execute_result"
    }
   ],
   "source": [
    "# Question 23: Create a dictionary with function values: {'len': len, 'str': str, 'int': int}\n",
    "a = {'len': len('len'), 'str': 'string', 'int': 725}\n",
    "a"
   ]
  },
  {
   "cell_type": "code",
   "execution_count": 117,
   "id": "39c2f1c6",
   "metadata": {},
   "outputs": [
    {
     "name": "stdout",
     "output_type": "stream",
     "text": [
      "len(123)=>3\n",
      "str(123)=>123\n",
      "int(123)=>123\n"
     ]
    }
   ],
   "source": [
    "# Question 24: Apply each function to \"123\" using dictionary\n",
    "c = {'len': len, 'str': str, 'int': int}\n",
    "value = '123'\n",
    "\n",
    "for l, s in c.items():\n",
    "    res = s(value)\n",
    "    print(f'{l}({value})=>{res}')"
   ]
  },
  {
   "cell_type": "code",
   "execution_count": 124,
   "id": "33ba4b19",
   "metadata": {},
   "outputs": [
    {
     "name": "stdout",
     "output_type": "stream",
     "text": [
      "Double: 10\n",
      "Square: 25\n"
     ]
    }
   ],
   "source": [
    "# Question 25: Create a dictionary with lambda functions: {'double': lambda x: x*2, 'square': lambda x: x**2}\n",
    "function = {\n",
    "    'double': lambda x: x * 2,\n",
    "    'square': lambda x: x ** 2\n",
    "}\n",
    "value = 5\n",
    "print(\"Double:\", function['double'](value))  \n",
    "print(\"Square:\", function['square'](value))"
   ]
  },
  {
   "cell_type": "code",
   "execution_count": 125,
   "id": "6d27cc39",
   "metadata": {},
   "outputs": [
    {
     "name": "stdout",
     "output_type": "stream",
     "text": [
      "double(5) => 10\n",
      "square(5) => 25\n"
     ]
    }
   ],
   "source": [
    "# Question 26: Apply each lambda function to 5\n",
    "for name, func in function.items():\n",
    "    result = func(value)\n",
    "    print(f\"{name}({value}) => {result}\")"
   ]
  },
  {
   "cell_type": "code",
   "execution_count": 126,
   "id": "a3e26a34",
   "metadata": {},
   "outputs": [
    {
     "name": "stdout",
     "output_type": "stream",
     "text": [
      "[1, 2, 3]\n",
      "{1: 'a', 2: 'b'}\n",
      "{1, 2, 3}\n"
     ]
    }
   ],
   "source": [
    "# Question 27: Create a dictionary with class values: {'list': list, 'dict': dict, 'set': set}\n",
    "class_dict = {\n",
    "    'list': list,\n",
    "    'dict': dict,\n",
    "    'set': set\n",
    "}\n",
    "print(class_dict['list']([1, 2, 3]))   # Output: [1, 2, 3]\n",
    "print(class_dict['dict']([(1, 'a'), (2, 'b')]))  # Output: {1: 'a', 2: 'b'}\n",
    "print(class_dict['set']([1, 2, 2, 3])) # Output: {1, 2, 3}"
   ]
  },
  {
   "cell_type": "code",
   "execution_count": 127,
   "id": "2e5d3c31",
   "metadata": {},
   "outputs": [
    {
     "name": "stdout",
     "output_type": "stream",
     "text": [
      "List instance: [1, 2, 3]\n",
      "Dict instance: {1: 'a', 2: 'b'}\n",
      "Set instance: {1, 2, 3}\n"
     ]
    }
   ],
   "source": [
    "# Question 28: Create instances using class dictionary\n",
    "list_instance = class_dict['list']([1, 2, 3])\n",
    "dict_instance = class_dict['dict']([(1, 'a'), (2, 'b')])\n",
    "set_instance = class_dict['set']([1, 2, 2, 3])\n",
    "\n",
    "# Print the results\n",
    "print(\"List instance:\", list_instance)\n",
    "print(\"Dict instance:\", dict_instance)\n",
    "print(\"Set instance:\", set_instance)"
   ]
  },
  {
   "cell_type": "code",
   "execution_count": 129,
   "id": "d5a78edf",
   "metadata": {},
   "outputs": [
    {
     "data": {
      "text/plain": [
       "{'a': None, 'b': None, 'c': None}"
      ]
     },
     "execution_count": 129,
     "metadata": {},
     "output_type": "execute_result"
    }
   ],
   "source": [
    "# Question 29: Create a dictionary with None values: {'a': None, 'b': None, 'c': None}\n",
    "di = {'a': None, 'b': None, 'c': None}\n",
    "di"
   ]
  },
  {
   "cell_type": "code",
   "execution_count": 131,
   "id": "6a4eab57",
   "metadata": {},
   "outputs": [
    {
     "data": {
      "text/plain": [
       "{'a': 0, 'b': 0, 'c': 0}"
      ]
     },
     "execution_count": 131,
     "metadata": {},
     "output_type": "execute_result"
    }
   ],
   "source": [
    "# Question 30: Replace all None values with 0\n",
    "d = {k: (0 if v is None else v) for k, v in di.items()}\n",
    "d"
   ]
  },
  {
   "cell_type": "code",
   "execution_count": 133,
   "id": "073413eb",
   "metadata": {},
   "outputs": [
    {
     "data": {
      "text/plain": [
       "{'Married': True, 'Educated': False, 'Indian': True}"
      ]
     },
     "execution_count": 133,
     "metadata": {},
     "output_type": "execute_result"
    }
   ],
   "source": [
    "# Question 31: Create a dictionary with boolean values: {'is_active': True, 'is_admin': False}\n",
    "boo = {\"Married\": True, 'Educated': False, 'Indian': True}\n",
    "boo"
   ]
  },
  {
   "cell_type": "code",
   "execution_count": 134,
   "id": "fcb4a844",
   "metadata": {},
   "outputs": [
    {
     "name": "stdout",
     "output_type": "stream",
     "text": [
      "Number of True values: 2\n"
     ]
    }
   ],
   "source": [
    "# Question 32: Count True values in boolean dictionary\n",
    "def count_true_values(d):\n",
    "    return sum(1 for value in d.values() if value is True)\n",
    "\n",
    "count = count_true_values(boo)\n",
    "print(\"Number of True values:\", count)"
   ]
  },
  {
   "cell_type": "code",
   "execution_count": 135,
   "id": "f835a75e",
   "metadata": {},
   "outputs": [
    {
     "data": {
      "text/plain": [
       "{'z1': (3+4j), 'z2': (1+2j)}"
      ]
     },
     "execution_count": 135,
     "metadata": {},
     "output_type": "execute_result"
    }
   ],
   "source": [
    "# Question 33: Create a dictionary with complex numbers: {'z1': 3+4j, 'z2': 1+2j}\n",
    "com = {'z1': 3+4j, 'z2': 1+2j}\n",
    "com"
   ]
  },
  {
   "cell_type": "code",
   "execution_count": 136,
   "id": "afb44067",
   "metadata": {},
   "outputs": [
    {
     "name": "stdout",
     "output_type": "stream",
     "text": [
      "Magnitude of z1 ((3+4j)) is 5.0\n",
      "Magnitude of z2 ((1+2j)) is 2.23606797749979\n"
     ]
    }
   ],
   "source": [
    "# Question 34: Find magnitude of each complex number\n",
    "for name, cnum in com.items():\n",
    "    magnitude = abs(cnum)\n",
    "    print(f\"Magnitude of {name} ({cnum}) is {magnitude}\")"
   ]
  },
  {
   "cell_type": "code",
   "execution_count": 137,
   "id": "ae97ab72",
   "metadata": {},
   "outputs": [
    {
     "data": {
      "text/plain": [
       "{'century': {'Year': {'Month': {'Week': {'Day': 23}}}}}"
      ]
     },
     "execution_count": 137,
     "metadata": {},
     "output_type": "execute_result"
    }
   ],
   "source": [
    "# Question 35: Create a 4-level nested dictionary\n",
    "four = {'century':{\"Year\":{\"Month\":{'Week':{'Day': 23}}}}}\n",
    "four"
   ]
  },
  {
   "cell_type": "code",
   "execution_count": 138,
   "id": "dc833e9f",
   "metadata": {},
   "outputs": [
    {
     "data": {
      "text/plain": [
       "23"
      ]
     },
     "execution_count": 138,
     "metadata": {},
     "output_type": "execute_result"
    }
   ],
   "source": [
    "# Question 36: Access deepest value in 4-level nested dictionary\n",
    "four['century']['Year']['Month']['Week']['Day']"
   ]
  },
  {
   "cell_type": "code",
   "execution_count": 141,
   "id": "845f3ee7",
   "metadata": {},
   "outputs": [
    {
     "name": "stdout",
     "output_type": "stream",
     "text": [
      "{'r1': [0, 1, 2], 'r2': [0, 1, 2, 3, 4]}\n"
     ]
    }
   ],
   "source": [
    "# Question 37: Create a dictionary with range values: {'r1': range(3), 'r2': range(5)}\n",
    "rang = {'r1': range(3), 'r2': range(5)}\n",
    "rang\n",
    "\n"
   ]
  },
  {
   "cell_type": "code",
   "execution_count": 142,
   "id": "94a0c204",
   "metadata": {},
   "outputs": [
    {
     "name": "stdout",
     "output_type": "stream",
     "text": [
      "{'r1': [0, 1, 2], 'r2': [0, 1, 2, 3, 4]}\n"
     ]
    }
   ],
   "source": [
    "# Question 38: Convert each range to list\n",
    "print({k: list(v) for k, v in rang.items()})"
   ]
  },
  {
   "cell_type": "code",
   "execution_count": 147,
   "id": "1402c9de",
   "metadata": {},
   "outputs": [
    {
     "name": "stdout",
     "output_type": "stream",
     "text": [
      "gen1: [0, 1, 2]\n",
      "gen2: [0, 1, 4, 9]\n"
     ]
    }
   ],
   "source": [
    "# Question 39: Create a dictionary with generator values\n",
    "gen_dict = {\n",
    "    'gen1': (x for x in range(3)),\n",
    "    'gen2': (x**2 for x in range(4))\n",
    "}\n",
    "\n",
    "for name, gen in gen_dict.items():\n",
    "    print(f\"{name}:\", list(gen))"
   ]
  },
  {
   "cell_type": "code",
   "execution_count": 149,
   "id": "79a19cc9",
   "metadata": {},
   "outputs": [
    {
     "name": "stdout",
     "output_type": "stream",
     "text": [
      "{'gen1': [0, 1, 2], 'gen2': [0, 1, 4, 9]}\n"
     ]
    }
   ],
   "source": [
    "# Question 40: Convert each generator to list\n",
    "def convert_generators_to_lists(d):\n",
    "    for key in d:\n",
    "        d[key] = list(d[key])\n",
    "    return d\n",
    "\n",
    "gen_dict = {\n",
    "    'gen1': (x for x in range(3)),\n",
    "    'gen2': (x**2 for x in range(4))\n",
    "}\n",
    "\n",
    "\n",
    "converted = convert_generators_to_lists(gen_dict)\n",
    "print(converted)"
   ]
  },
  {
   "cell_type": "code",
   "execution_count": 150,
   "id": "145f7281",
   "metadata": {},
   "outputs": [
    {
     "name": "stdout",
     "output_type": "stream",
     "text": [
      "it1:  [1, 2, 3]\n",
      "it2:  ['a', 'b', 'c']\n"
     ]
    }
   ],
   "source": [
    "# Question 41: Create a dictionary with iterator values\n",
    "iter_dict = {\n",
    "    'it1': iter([1, 2, 3]),\n",
    "    'it2': iter('abc')\n",
    "}\n",
    "\n",
    "for name, it in iter_dict.items():\n",
    "    print(f\"{name}: \", list(it))"
   ]
  },
  {
   "cell_type": "code",
   "execution_count": 152,
   "id": "0367dd50",
   "metadata": {},
   "outputs": [
    {
     "name": "stdout",
     "output_type": "stream",
     "text": [
      "{'it1': [1, 2, 3], 'it2': ['a', 'b', 'c']}\n"
     ]
    }
   ],
   "source": [
    "# Question 42: Extract all elements from each iterator\n",
    "iter_dict = {\n",
    "    'it1': iter([1, 2, 3]),\n",
    "    'it2': iter('abc')\n",
    "}\n",
    "\n",
    "for key in iter_dict:\n",
    "    iter_dict[key] = list(iter_dict[key])\n",
    "\n",
    "# Print the updated dictionary\n",
    "print(iter_dict)"
   ]
  },
  {
   "cell_type": "code",
   "execution_count": 153,
   "id": "c00e58ac",
   "metadata": {},
   "outputs": [
    {
     "data": {
      "text/plain": [
       "{'matrix': [[1, 2], [3, 4]], 'vector': [5, 6, 7]}"
      ]
     },
     "execution_count": 153,
     "metadata": {},
     "output_type": "execute_result"
    }
   ],
   "source": [
    "# Question 43: Create a dictionary with nested lists: {'matrix': [[1, 2], [3, 4]], 'vector': [5, 6, 7]}\n",
    "nes_lis =  {'matrix': [[1, 2], [3, 4]], 'vector': [5, 6, 7]}\n",
    "nes_lis"
   ]
  },
  {
   "cell_type": "code",
   "execution_count": null,
   "id": "2e366ef0",
   "metadata": {},
   "outputs": [],
   "source": [
    "# Question 44: Find sum of each nested list\n"
   ]
  },
  {
   "cell_type": "code",
   "execution_count": 156,
   "id": "6a596cc1",
   "metadata": {},
   "outputs": [
    {
     "data": {
      "text/plain": [
       "{'config': {'db': {'host': 'localhost', 'port': 5432}}}"
      ]
     },
     "execution_count": 156,
     "metadata": {},
     "output_type": "execute_result"
    }
   ],
   "source": [
    "# Question 45: Create a dictionary with nested dictionaries: {'config': {'db': {'host': 'localhost', 'port': 5432}}}\n",
    "nes_dic = {'config': {'db': {'host': 'localhost', 'port': 5432}}}\n",
    "nes_dic"
   ]
  },
  {
   "cell_type": "code",
   "execution_count": 157,
   "id": "dc348d90",
   "metadata": {},
   "outputs": [
    {
     "data": {
      "text/plain": [
       "5432"
      ]
     },
     "execution_count": 157,
     "metadata": {},
     "output_type": "execute_result"
    }
   ],
   "source": [
    "# Question 46: Access database port from nested configuration\n",
    "nes_dic['config']['db']['port']"
   ]
  },
  {
   "cell_type": "code",
   "execution_count": 158,
   "id": "1394325e",
   "metadata": {},
   "outputs": [
    {
     "data": {
      "text/plain": [
       "{'points': ((1, 2), (3, 4)), 'rgb': ((255, 0, 0), (0, 255, 0))}"
      ]
     },
     "execution_count": 158,
     "metadata": {},
     "output_type": "execute_result"
    }
   ],
   "source": [
    "# Question 47: Create a dictionary with nested tuples: {'points': ((1, 2), (3, 4)), 'rgb': ((255, 0, 0), (0, 255, 0))}\n",
    "nes_tup = {'points': ((1, 2), (3, 4)), 'rgb': ((255, 0, 0), (0, 255, 0))}\n",
    "nes_tup"
   ]
  },
  {
   "cell_type": "code",
   "execution_count": 160,
   "id": "76e499f2",
   "metadata": {},
   "outputs": [
    {
     "data": {
      "text/plain": [
       "(1, 2)"
      ]
     },
     "execution_count": 160,
     "metadata": {},
     "output_type": "execute_result"
    }
   ],
   "source": [
    "# Question 48: Extract first point coordinates\n",
    "nes_tup['points'][0]"
   ]
  },
  {
   "cell_type": "code",
   "execution_count": 162,
   "id": "356c34b2",
   "metadata": {},
   "outputs": [
    {
     "ename": "TypeError",
     "evalue": "unhashable type: 'set'",
     "output_type": "error",
     "traceback": [
      "\u001b[1;31m---------------------------------------------------------------------------\u001b[0m",
      "\u001b[1;31mTypeError\u001b[0m                                 Traceback (most recent call last)",
      "Input \u001b[1;32mIn [162]\u001b[0m, in \u001b[0;36m<cell line: 2>\u001b[1;34m()\u001b[0m\n\u001b[0;32m      1\u001b[0m \u001b[38;5;66;03m# Question 49: Create a dictionary with nested sets: {'groups': {{1, 2, 3}, {4, 5, 6}}, 'categories': {{'a', 'b'}, {'c', 'd'}}}\u001b[39;00m\n\u001b[1;32m----> 2\u001b[0m nes_se \u001b[38;5;241m=\u001b[39m {\u001b[38;5;124m'\u001b[39m\u001b[38;5;124mgroups\u001b[39m\u001b[38;5;124m'\u001b[39m: {{\u001b[38;5;241m1\u001b[39m, \u001b[38;5;241m2\u001b[39m, \u001b[38;5;241m3\u001b[39m}, {\u001b[38;5;241m4\u001b[39m, \u001b[38;5;241m5\u001b[39m, \u001b[38;5;241m6\u001b[39m}}, \u001b[38;5;124m'\u001b[39m\u001b[38;5;124mcategories\u001b[39m\u001b[38;5;124m'\u001b[39m: {{\u001b[38;5;124m'\u001b[39m\u001b[38;5;124ma\u001b[39m\u001b[38;5;124m'\u001b[39m, \u001b[38;5;124m'\u001b[39m\u001b[38;5;124mb\u001b[39m\u001b[38;5;124m'\u001b[39m}, {\u001b[38;5;124m'\u001b[39m\u001b[38;5;124mc\u001b[39m\u001b[38;5;124m'\u001b[39m, \u001b[38;5;124m'\u001b[39m\u001b[38;5;124md\u001b[39m\u001b[38;5;124m'\u001b[39m}}}\n",
      "\u001b[1;31mTypeError\u001b[0m: unhashable type: 'set'"
     ]
    }
   ],
   "source": [
    "# Question 49: Create a dictionary with nested sets: {'groups': {{1, 2, 3}, {4, 5, 6}}, 'categories': {{'a', 'b'}, {'c', 'd'}}}\n",
    "nes_se = {'groups': {{1, 2, 3}, {4, 5, 6}}, 'categories': {{'a', 'b'}, {'c', 'd'}}}\n",
    "\n",
    "# As we know sets are unhashable - they can't be elements of other sets or keys in dictinaries"
   ]
  },
  {
   "cell_type": "code",
   "execution_count": null,
   "id": "2bb428ae",
   "metadata": {},
   "outputs": [],
   "source": [
    "# Question 50: Find union of all nested sets\n"
   ]
  },
  {
   "cell_type": "code",
   "execution_count": null,
   "id": "b7357d7f",
   "metadata": {},
   "outputs": [],
   "source": []
  },
  {
   "cell_type": "code",
   "execution_count": null,
   "id": "afad77a6",
   "metadata": {},
   "outputs": [],
   "source": []
  },
  {
   "cell_type": "code",
   "execution_count": null,
   "id": "c7e6a1e4",
   "metadata": {},
   "outputs": [],
   "source": []
  },
  {
   "cell_type": "code",
   "execution_count": null,
   "id": "93301cc6",
   "metadata": {},
   "outputs": [],
   "source": []
  },
  {
   "cell_type": "code",
   "execution_count": null,
   "id": "03474e48",
   "metadata": {},
   "outputs": [],
   "source": []
  },
  {
   "cell_type": "code",
   "execution_count": null,
   "id": "be19328e",
   "metadata": {},
   "outputs": [],
   "source": []
  },
  {
   "cell_type": "code",
   "execution_count": null,
   "id": "c67e9a91",
   "metadata": {},
   "outputs": [],
   "source": []
  },
  {
   "cell_type": "code",
   "execution_count": null,
   "id": "117a937d",
   "metadata": {},
   "outputs": [],
   "source": []
  },
  {
   "cell_type": "code",
   "execution_count": null,
   "id": "413c2bc9",
   "metadata": {},
   "outputs": [],
   "source": []
  }
 ],
 "metadata": {
  "kernelspec": {
   "display_name": "Python 3 (ipykernel)",
   "language": "python",
   "name": "python3"
  },
  "language_info": {
   "codemirror_mode": {
    "name": "ipython",
    "version": 3
   },
   "file_extension": ".py",
   "mimetype": "text/x-python",
   "name": "python",
   "nbconvert_exporter": "python",
   "pygments_lexer": "ipython3",
   "version": "3.9.12"
  }
 },
 "nbformat": 4,
 "nbformat_minor": 5
}
